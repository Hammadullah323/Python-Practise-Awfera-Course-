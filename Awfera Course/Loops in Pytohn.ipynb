{
 "cells": [
  {
   "cell_type": "markdown",
   "id": "8008c645",
   "metadata": {},
   "source": [
    "# 2. For Loop\n",
    "\n",
    "The for loop in python is used for iterating over a sequence(lists, strings, tuples, dictionaries etc.). It processes each element one at a time in a very readable format.\n",
    "\n",
    "Basic Syntax:\n",
    "\n",
    "for item in sequence:\n",
    "    process items"
   ]
  },
  {
   "cell_type": "code",
   "execution_count": 2,
   "id": "0ad9443a",
   "metadata": {},
   "outputs": [
    {
     "name": "stdout",
     "output_type": "stream",
     "text": [
      "1\n",
      "2\n",
      "3\n",
      "4\n",
      "5\n"
     ]
    }
   ],
   "source": [
    "# Example: iterating over a number\n",
    "numbers = [1,2,3,4,5]  #A list of numbers\n",
    "for num in numbers: #Loop through each number in the list\n",
    "    print(num) #print the current number"
   ]
  },
  {
   "cell_type": "markdown",
   "id": "1baa417b",
   "metadata": {},
   "source": [
    "# Using Enumerte() in For Loops\n",
    "\n",
    "Sometimes you need the item and its index. Python's built-in enumerate() functions makes this easy."
   ]
  },
  {
   "cell_type": "code",
   "execution_count": null,
   "id": "d822e8c4",
   "metadata": {},
   "outputs": [
    {
     "name": "stdout",
     "output_type": "stream",
     "text": [
      "Index 0 : apple\n",
      "Index 1 : banana\n",
      "Index 2 : cherry\n"
     ]
    }
   ],
   "source": [
    "# Example 2: Using Enumerate() to get both index and value form a list\n",
    "Fruits = ['apple', 'banana', 'cherry']  # Alist of Fruits\n",
    "for index, fruit in enumerate(Fruits):  #enumerate returns index and item\n",
    "    print(f\"Index {index} : {fruit}\")"
   ]
  },
  {
   "cell_type": "code",
   "execution_count": null,
   "id": "5cdb426f",
   "metadata": {},
   "outputs": [
    {
     "name": "stdout",
     "output_type": "stream",
     "text": [
      "Index 0 : apple\n",
      "Index 1 : banana\n",
      "Index 2 : cherry\n"
     ]
    }
   ],
   "source": [
    "fruits = ['apple', 'banana', 'cherry']\n",
    "\n",
    "index = 0  #initialize a counter variable\n",
    "\n",
    "#Iterate over each element in the list\n",
    "for fruit in fruits:\n",
    "    print(f\"Index {index} : {fruit}\")\n",
    "    index += 1  #index = index + 1"
   ]
  },
  {
   "cell_type": "markdown",
   "id": "ca23bc5e",
   "metadata": {},
   "source": [
    "# Iterating over dictionaries\n",
    "\n",
    "Dictionaries are key-value pairs. You can iterate over.\n",
    "\n",
    "Keys: By default, looping over dictionary returns its keys.\n",
    "Values: using .values()\n",
    "Key-value Pairs: Using .items()"
   ]
  },
  {
   "cell_type": "code",
   "execution_count": null,
   "id": "7704be2c",
   "metadata": {},
   "outputs": [
    {
     "name": "stdout",
     "output_type": "stream",
     "text": [
      "Iterating over keys\n",
      "name : Alice\n",
      "Age : 30\n",
      "City : New York\n"
     ]
    }
   ],
   "source": [
    "#Example3: Iterating over dictionaries\n",
    "person = {\n",
    "    'name' : 'Alice',\n",
    "    'Age' : 30,\n",
    "    'City' : 'New York'\n",
    "}\n",
    "\n",
    "#Iterating over keys(default behaviour)\n",
    "print(\"Iterating over keys\")\n",
    "for key in person:\n",
    "    #print(key)  #I get only values\n",
    "    print(f\"{key} : {person[key]}\")  # key along with item. person[key] goes to current key value."
   ]
  },
  {
   "cell_type": "code",
   "execution_count": null,
   "id": "c6205afc",
   "metadata": {},
   "outputs": [
    {
     "name": "stdout",
     "output_type": "stream",
     "text": [
      "Iterating over key value pairs\n",
      "name : Alice\n",
      "Age : 30\n",
      "City : New York\n"
     ]
    }
   ],
   "source": [
    "# Iterating over keys using .items()\n",
    "print(\"Iterating over key value pairs\")\n",
    "for key, value in person.items():  #.items returns key as well as value\n",
    "    print(f\"{key} : {value}\")"
   ]
  },
  {
   "cell_type": "markdown",
   "id": "120042bd",
   "metadata": {},
   "source": [
    "# 3. While Loop\n",
    "\n",
    "While loop Overview:\n",
    "The while loop runs as long as the specified condition is True.\n",
    "\n",
    "Basic Syntax:\n",
    "\n",
    "while condition:\n",
    "    #execute code block"
   ]
  },
  {
   "cell_type": "code",
   "execution_count": null,
   "id": "ca36bb60",
   "metadata": {},
   "outputs": [
    {
     "name": "stdout",
     "output_type": "stream",
     "text": [
      "Count:  0\n",
      "Count:  1\n",
      "Count:  2\n",
      "Count:  3\n",
      "Count:  4\n"
     ]
    }
   ],
   "source": [
    "#Example 4: Abasic while loop that counts from 0 to 4.\n",
    "count = 0          #initialize count = 0\n",
    "while count < 5:   # Loop will run as long as count is less than 5.\n",
    "    print(\"Count: \", count) \n",
    "    count+=1        # Increment the counter to avoid infinite loop."
   ]
  },
  {
   "cell_type": "markdown",
   "id": "e973c7b7",
   "metadata": {},
   "source": [
    "# 4. Loop Control Statements\n",
    "\n",
    "Loop control statemetns allow you to alter the normal flow of your loop.\n",
    "\n",
    "    1. break:\n",
    "        Exits the loop immediately.\n",
    "        Useful when a certain condition is met and further processing is unnecessary.\n",
    "\n",
    "    2. continue:\n",
    "        Skips the current iteration and move to the next.\n",
    "        Ideal for bypassing specific conditions without stopping the entire loop.\n",
    "\n",
    "    3. else:\n",
    "        Runs when the loop completes naturally (i.e., it is not terminated by a break statement).\n",
    "        Can be used to execute code after the loop finishes processing."
   ]
  },
  {
   "cell_type": "code",
   "execution_count": null,
   "id": "7abd17ac",
   "metadata": {},
   "outputs": [
    {
     "name": "stdout",
     "output_type": "stream",
     "text": [
      "Current Number:  0\n",
      "Current Number:  1\n",
      "Current Number:  2\n",
      "Skipping 3\n",
      "Current Number:  4\n",
      "Current Number:  5\n",
      "Current Number:  6\n",
      "Current Number:  7\n",
      "Breaking at 8\n"
     ]
    }
   ],
   "source": [
    "#Example 5: Using break, continue and else in a loop\n",
    "\n",
    "for i in range(10):\n",
    "    if i == 3:\n",
    "        print(\"Skipping 3\")\n",
    "        continue            #Skip the rest of the code in the loop when i = 3. Skip the current condition wh nit becomes True.\n",
    "    if i == 8:\n",
    "        print(\"Breaking at 8\")\n",
    "        break               #Exit the loop entirely when i = 8. Exit the loop as whole whe nceratin condition becomes True.\n",
    "    print(\"Current Number: \", i)\n",
    "else:\n",
    "    print(\"Loop Completed without break.\")  #This block executes only if the loop was not terminated by break."
   ]
  },
  {
   "cell_type": "markdown",
   "id": "afcdb906",
   "metadata": {},
   "source": [
    "Best Practices for Loops:\n",
    "\n",
    "    1. Smplicity:\n",
    "        Keep code simple nd readable.\n",
    "    2. Naming:\n",
    "        Use Meaningful variable names.\n",
    "    3. Comment your Code:\n",
    "        Document Complex Logic Code and conditions\n",
    "    4. Built-in Functions:\n",
    "        Utilize enumerate(), zip() and iter tools\n",
    "    5 Safety:\n",
    "        Guard against infinite loops."
   ]
  }
 ],
 "metadata": {
  "kernelspec": {
   "display_name": "awfera",
   "language": "python",
   "name": "python3"
  },
  "language_info": {
   "codemirror_mode": {
    "name": "ipython",
    "version": 3
   },
   "file_extension": ".py",
   "mimetype": "text/x-python",
   "name": "python",
   "nbconvert_exporter": "python",
   "pygments_lexer": "ipython3",
   "version": "3.10.17"
  }
 },
 "nbformat": 4,
 "nbformat_minor": 5
}
