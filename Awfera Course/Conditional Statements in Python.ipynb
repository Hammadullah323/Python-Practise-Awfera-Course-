{
 "cells": [
  {
   "cell_type": "markdown",
   "id": "95be1e5e",
   "metadata": {},
   "source": [
    "# Conditional Statements in Python\n",
    "\n",
    "# Topics Covered\n",
    "\n",
    "    1.Understanding conditions in programming - Why we need conditions?\n",
    "    2.Real World Analogy - Explaining conditions using a relatable analogy.\n",
    "    3.Conditional Statements in python-if,else,elif\n",
    "    4.Using Logical Operators with Conditions.\n",
    "    5.Nested Conditions-Handling Multiple levels of decisions.\n",
    "    6.Practise Exercises - Beginner, Intermediate and Advanced Problems\n",
    "\n",
    "\n",
    "# Why Do we need Programming?\n",
    "\n",
    "In real life we make decisions all the time based on certain conditions.\n",
    "\n",
    "    * If it rains, we take an umberalla.\n",
    "    * If we are hungry, we eat food.\n",
    "    * If the battery is low, we charge the phone.\n",
    "\n",
    "Computers also need to make decisions when running a program.\n",
    "\n",
    "    This is where conditional statements work.\n",
    "\n",
    "# Real world Analogy: Traffic Signals\n",
    "\n",
    "Imagine you are driving a car and reach a traffic signal:\n",
    "\n",
    "    1.If the light is green, you go\n",
    "    2.If the ligh is red,  you stop\n",
    "    3.If the light is yellow, you slow down and prepare to stop\n",
    "\n",
    "Just like traffic signals control movement based on conditions, programming conditions control how code executes.\n",
    "\n",
    "# Important Note: How if-elif-else Evaluates Condition\n",
    "\n",
    "Python's if-elif-else structure works by evaluating conditions one by one in sequence. Each condition must ultimately resolve to either True or False.\n",
    "\n",
    "    * If a condition is True, Python executes the block and skips the rest.\n",
    "    * If all conditions are False, then executes the else(if present).\n",
    "    * Only one condition is executed in if-elif-else chain.    "
   ]
  },
  {
   "cell_type": "code",
   "execution_count": 3,
   "id": "19d519a9",
   "metadata": {},
   "outputs": [
    {
     "name": "stdout",
     "output_type": "stream",
     "text": [
      "You can GO!\n"
     ]
    }
   ],
   "source": [
    "# Traffic Light Example: Controlling Traffic based on light colors\n",
    "\n",
    "# Define the traffic light colors\n",
    "traffic_light = \"Green\"\n",
    "\n",
    "# Check the Condition\n",
    "if traffic_light == \"Green\":\n",
    "    print(\"You can GO!\") # if the lightis green, car can go"
   ]
  },
  {
   "cell_type": "code",
   "execution_count": 4,
   "id": "09fd3d8c",
   "metadata": {},
   "outputs": [
    {
     "name": "stdout",
     "output_type": "stream",
     "text": [
      "You must stop! \n"
     ]
    }
   ],
   "source": [
    "# Traffic Light Example: Stopping or Going based on Light color\n",
    "\n",
    "# Define the traffic light color\n",
    "traffic_light = \"red\"\n",
    "\n",
    "#Check the condition\n",
    "if traffic_light == \"Green\":\n",
    "    print(\"You can GO!\") # if the lightis green, car can go\n",
    "else:\n",
    "    print(\"You must stop! \") #if the light is red or any other color, car must stop\n",
    "    "
   ]
  },
  {
   "cell_type": "code",
   "execution_count": 5,
   "id": "ed2fa98f",
   "metadata": {},
   "outputs": [
    {
     "name": "stdout",
     "output_type": "stream",
     "text": [
      "Slow down and prepare to stop!\n"
     ]
    }
   ],
   "source": [
    "# Traffic Light Example: Handling Different Light Signals \n",
    "\n",
    "# Define the traffic light color\n",
    "traffic_light == \"Yellow\"\n",
    "\n",
    "#Check the Condition\n",
    "if traffic_light == \"Green\":\n",
    "    print(\"You can GO!\") # if the lightis green, car can go\n",
    "elif traffic_light == \"Red\":\n",
    "    print(\"You must stop!\") #if the light is red, car must stop\n",
    "else:\n",
    "    print(\"Slow down and prepare to stop!\") #If the light is yellow cars must slow down"
   ]
  },
  {
   "cell_type": "markdown",
   "id": "f67ff2f9",
   "metadata": {},
   "source": [
    "# Use Logical Operators with if statement\n",
    "\n",
    "Logical Operators allow us to combine multiple conditions:\n",
    "\n",
    "    * and - Returns True if both condtions are True.\n",
    "    * or - Returns True if atleast one condition is True.\n",
    "    * not - Reverse the condition."
   ]
  },
  {
   "cell_type": "code",
   "execution_count": 6,
   "id": "31b6cf15",
   "metadata": {},
   "outputs": [
    {
     "name": "stdout",
     "output_type": "stream",
     "text": [
      "Pedestrian should wait\n"
     ]
    }
   ],
   "source": [
    "# Traffic Light Example using AND: Checking if pedestrain can cross safely\n",
    "\n",
    "#Define the pedestrian signal status\n",
    "pedestrian_signal = \"Flashing\"\n",
    "\n",
    "#Check the condition\n",
    "if pedestrian_signal == \"Walk\" and pedestrian_signal != \"Flashing\": #if the signal is walk and not flashing, they cross\n",
    "    print(\"Pedestrian can cross safely!\")\n",
    "else: \n",
    "    print(\"Pedestrian should wait\") #if the signal is flashing and no \"Walk\" they shoul wait"
   ]
  },
  {
   "cell_type": "code",
   "execution_count": null,
   "id": "124eecad",
   "metadata": {},
   "outputs": [
    {
     "name": "stdout",
     "output_type": "stream",
     "text": [
      "You can GO!\n"
     ]
    }
   ],
   "source": [
    "# Traffic Light Example using OR: Allowing emergency vehicles to pass\n",
    "\n",
    "# Define the traffic light color\n",
    "traffic_light = \"Red\"\n",
    "\n",
    "#Define the vehicle type\n",
    "vehicle_type = \"Ambulance\"\n",
    "\n",
    "#Check if the light is green OR if it is an emergency vehicle\n",
    "if traffic_light == \"Green\" or vehicle_type == \"Ambulance\":\n",
    "    print(\"You can GO!\") #Emergency vehicles can go even if the light is red\n",
    "else:\n",
    "    print(\"You must STOP!\") #Regular vehicles must stop if the light is red\n",
    "\n"
   ]
  },
  {
   "cell_type": "code",
   "execution_count": 8,
   "id": "83b70c8a",
   "metadata": {},
   "outputs": [
    {
     "name": "stdout",
     "output_type": "stream",
     "text": [
      "Do not cross\n"
     ]
    }
   ],
   "source": [
    "# Traffic Light Example using NOT: Ensuring No un Authorized Crossing\n",
    "\n",
    "#Define the pedestrian signal\n",
    "pedestrian_signal = \"Don't Walk\"\n",
    "\n",
    "#Check if pedestrain should not pass\n",
    "if not pedestrian_signal == \"Walk\":\n",
    "    print(\"Do not cross\")  #If the signal is not walk, pedestrian must wait\n",
    "else:\n",
    "    print(\"You can cross safely\") #If the signal is Walk, pedestrain can cross\n"
   ]
  },
  {
   "cell_type": "markdown",
   "id": "d846f1f8",
   "metadata": {},
   "source": [
    "# Nested Conditions\n",
    "\n",
    "Soemtimes decisions depend on multiple levels of conditions. We can nest if statements inside other if statements."
   ]
  },
  {
   "cell_type": "code",
   "execution_count": 9,
   "id": "027b2b90",
   "metadata": {},
   "outputs": [
    {
     "name": "stdout",
     "output_type": "stream",
     "text": [
      "You are driving safely!\n"
     ]
    }
   ],
   "source": [
    "# Traffic Light Example:  Check Traffic Rule Compilance\n",
    "\n",
    "#Define the speed of the car (in km/h)\n",
    "car_speed = 60\n",
    "\n",
    "#Define weather the driver is wearing a seatbelt\n",
    "seatbelt_on = True\n",
    "\n",
    "#Checking if driver is following traffic rules\n",
    "if car_speed <= 60: # Speed limit check\n",
    "    if seatbelt_on: #Seatbelt Check\n",
    "        print(\"You are driving safely!\")\n",
    "    else:\n",
    "        print(\"Warning! Please wear your seatbelt.\")\n",
    "else:\n",
    "    print(\"Slow down! you are exceeding the speed limit! \")\n",
    "\n"
   ]
  },
  {
   "cell_type": "code",
   "execution_count": 10,
   "id": "65892689",
   "metadata": {},
   "outputs": [
    {
     "name": "stdout",
     "output_type": "stream",
     "text": [
      "You can go. The road is clear.\n"
     ]
    }
   ],
   "source": [
    "# Traffic Light Example: Managing traffic flow at an intersection\n",
    "\n",
    "#Define the traffic light color\n",
    "traffic_light = \"Green\"\n",
    "\n",
    "#Define Weather the road is clear\n",
    "road_clear = True\n",
    "\n",
    "#Checking the traffic conditions\n",
    "if traffic_light == \"Green\":\n",
    "    #Nested Conditions: Checking if the road is clear\n",
    "    if road_clear:\n",
    "        print(\"You can go. The road is clear.\")\n",
    "    else:\n",
    "        print(\"Wait! The road is not clear, even though the light is green.\")\n",
    "elif traffic_light ==\"Yellow\":\n",
    "    print(\"SLOW down PREPARE TO STOP! \")\n",
    "else:\n",
    "    print(\"You must Stop! \")"
   ]
  }
 ],
 "metadata": {
  "kernelspec": {
   "display_name": "awfera",
   "language": "python",
   "name": "python3"
  },
  "language_info": {
   "codemirror_mode": {
    "name": "ipython",
    "version": 3
   },
   "file_extension": ".py",
   "mimetype": "text/x-python",
   "name": "python",
   "nbconvert_exporter": "python",
   "pygments_lexer": "ipython3",
   "version": "3.10.17"
  }
 },
 "nbformat": 4,
 "nbformat_minor": 5
}
