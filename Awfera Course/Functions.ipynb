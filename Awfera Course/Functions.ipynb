{
 "cells": [
  {
   "cell_type": "markdown",
   "id": "4d945f93",
   "metadata": {},
   "source": [
    "# Introduction to Functions\n",
    "\n",
    "    To understand functions, let's consider an analogy. Imagine that a chef works in a restaurant, and he gets repeated orders of recipes. The chef has two options:\n",
    "\n",
    "        Option 1: He takes a recipe book, and every time he gets an order, he writes down the steps of that order and starts making the recipe.\n",
    "        Option 2: He writes down the recipe once and hangs it at one place. Whenever he gets an order for the same recipe, he simply follows the steps and makes the recipe.\n",
    "\n",
    "    In the same way, when we need to do something repetitively in Python for a specific output, instead of writing the same lines of code again and again, we define a function. This function can be called whenever needed.\n",
    "\n",
    "# Benefits of Functions\n",
    "\n",
    "Using functions in programming offers several benefits:\n",
    "\n",
    "    Code Reusability:\n",
    "            You do not need to rewrite the same code over and over again. Functions allow you to reuse the code, making your program more efficient.\n",
    "    Concise, Clean, and Modular Code:\n",
    "            If you have multiple tasks to perform, you can create a function for each task. This makes the code more organized and easier to understand. For example, instead of writing 10 lines of code for 10 tasks, you can create functions for each and use them multiple times.\n",
    "    Error Reduction:\n",
    "            When performing repetitive tasks, the chances of making mistakes increase. By using functions, you reduce the possibility of errors as you are calling the same code instead of re-writing it every time.\n",
    "\n",
    "# How Functions Work\n",
    "\n",
    "    Function Definition:\n",
    "        To create a function in Python, you define it with a name, and it can take inputs (parameters) and produce outputs.\n",
    "    Example of a Function:\n",
    "        Consider a juicer machine.\n",
    "        Input: A fruit.\n",
    "        Output: Juice made from that fruit.\n",
    "\n",
    "\n",
    "You can use this machine repeatedly for different fruits to get juice, similar to how a function works with inputs and outputs. "
   ]
  },
  {
   "cell_type": "code",
   "execution_count": null,
   "id": "7b30edf9",
   "metadata": {},
   "outputs": [],
   "source": [
    "# The print() function display an output\n",
    "\n",
    "print(\"Welcome to Python Functions!\")"
   ]
  },
  {
   "cell_type": "code",
   "execution_count": 1,
   "id": "90697268",
   "metadata": {},
   "outputs": [
    {
     "name": "stdout",
     "output_type": "stream",
     "text": [
      "Hello Hammadullah\n"
     ]
    }
   ],
   "source": [
    "# The input() function takes user input.\n",
    "\n",
    "name = input(\"Enter your name: \")\n",
    "print(\"Hello\", name)"
   ]
  },
  {
   "cell_type": "code",
   "execution_count": null,
   "id": "109e0d6d",
   "metadata": {},
   "outputs": [
    {
     "name": "stdout",
     "output_type": "stream",
     "text": [
      "the type of num is:  <class 'int'>\n"
     ]
    }
   ],
   "source": [
    "# The type() function returns the type of variable\n",
    "num = 10\n",
    "print(\"the type of num is: \", type(num))"
   ]
  },
  {
   "cell_type": "code",
   "execution_count": 4,
   "id": "a0aa16b0",
   "metadata": {},
   "outputs": [
    {
     "name": "stdout",
     "output_type": "stream",
     "text": [
      "The length of the word is:  6\n"
     ]
    }
   ],
   "source": [
    "# The len() function returns the length of an object\n",
    "\n",
    "word = \"python\"\n",
    "print(\"The length of the word is: \", len(word))"
   ]
  },
  {
   "cell_type": "code",
   "execution_count": 5,
   "id": "acaed2c0",
   "metadata": {},
   "outputs": [
    {
     "name": "stdout",
     "output_type": "stream",
     "text": [
      "The highest price on the menu is:  30\n"
     ]
    }
   ],
   "source": [
    "# The max function returns the largest value from a list of numbers\n",
    "\n",
    "prices = [10,25,8,15,30]\n",
    "\n",
    "heighest_price = max(prices)\n",
    "print(\"The highest price on the menu is: \", heighest_price)"
   ]
  },
  {
   "cell_type": "code",
   "execution_count": 6,
   "id": "7cb183d0",
   "metadata": {},
   "outputs": [
    {
     "name": "stdout",
     "output_type": "stream",
     "text": [
      "The restaurant ratings from lowest to heighest is:  [3.9, 4.2, 4.5, 4.8, 5.0]\n"
     ]
    }
   ],
   "source": [
    "# The sorted() function sorts a list in ascending order\n",
    "\n",
    "ratings = [4.5,3.9,5.0,4.2,4.8]\n",
    "sorted_ratings = sorted(ratings)\n",
    "print(\"The restaurant ratings from lowest to heighest is: \", sorted_ratings)"
   ]
  },
  {
   "cell_type": "code",
   "execution_count": 8,
   "id": "06c51072",
   "metadata": {},
   "outputs": [
    {
     "name": "stdout",
     "output_type": "stream",
     "text": [
      "Dish 1 is ready!\n",
      "Dish 2 is ready!\n",
      "Dish 3 is ready!\n",
      "Dish 4 is ready!\n",
      "Dish 5 is ready!\n"
     ]
    }
   ],
   "source": [
    "# Generates a sequence of numbers(like preparing a set of numbers of meals of a buffet)\n",
    "\n",
    "for i in range(5):\n",
    "    print(\"Dish\", i+1, \"is ready!\")"
   ]
  },
  {
   "cell_type": "code",
   "execution_count": 9,
   "id": "ac4f1087",
   "metadata": {},
   "outputs": [
    {
     "name": "stdout",
     "output_type": "stream",
     "text": [
      "The memory address of x is: 1495552362000\n"
     ]
    }
   ],
   "source": [
    "# Returns the memory address of an object(like labeling dishes with order)\n",
    "\n",
    "x = 42\n",
    "print(\"The memory address of x is:\",id( x))"
   ]
  },
  {
   "cell_type": "code",
   "execution_count": 11,
   "id": "9a9f1305",
   "metadata": {},
   "outputs": [
    {
     "name": "stdout",
     "output_type": "stream",
     "text": [
      "The result of the expression is:  11\n"
     ]
    }
   ],
   "source": [
    "# Evaluates Expressions(like calculating bill at the end of meal)\n",
    "\n",
    "expression = \"5+3*2\"\n",
    "result = eval(expression)\n",
    "print(\"The result of the expression is: \", result)"
   ]
  },
  {
   "cell_type": "code",
   "execution_count": null,
   "id": "9fb3c810",
   "metadata": {},
   "outputs": [
    {
     "ename": "TypeError",
     "evalue": "object of type 'bool' has no len()",
     "output_type": "error",
     "traceback": [
      "\u001b[1;31m---------------------------------------------------------------------------\u001b[0m",
      "\u001b[1;31mTypeError\u001b[0m                                 Traceback (most recent call last)",
      "Cell \u001b[1;32mIn[15], line 8\u001b[0m\n\u001b[0;32m      1\u001b[0m \u001b[38;5;66;03m# Practise Exercise\u001b[39;00m\n\u001b[0;32m      2\u001b[0m \n\u001b[0;32m      3\u001b[0m \u001b[38;5;66;03m# Find the longest word\u001b[39;00m\n\u001b[0;32m      5\u001b[0m words \u001b[38;5;241m=\u001b[39m [\u001b[38;5;124m\"\u001b[39m\u001b[38;5;124mPython\u001b[39m\u001b[38;5;124m\"\u001b[39m, \u001b[38;5;124m\"\u001b[39m\u001b[38;5;124mProgramming\u001b[39m\u001b[38;5;124m\"\u001b[39m, \u001b[38;5;124m\"\u001b[39m\u001b[38;5;124mCode\u001b[39m\u001b[38;5;124m\"\u001b[39m, \u001b[38;5;124m\"\u001b[39m\u001b[38;5;124mFunctions\u001b[39m\u001b[38;5;124m\"\u001b[39m]\n\u001b[1;32m----> 8\u001b[0m \u001b[38;5;28;01mif\u001b[39;00m \u001b[38;5;28;43mlen\u001b[39;49m\u001b[43m(\u001b[49m\u001b[43mwords\u001b[49m\u001b[43m[\u001b[49m\u001b[38;5;241;43m0\u001b[39;49m\u001b[43m]\u001b[49m\u001b[43m \u001b[49m\u001b[38;5;241;43m>\u001b[39;49m\u001b[43m \u001b[49m\u001b[43mwords\u001b[49m\u001b[43m[\u001b[49m\u001b[38;5;241;43m1\u001b[39;49m\u001b[43m]\u001b[49m\u001b[43m)\u001b[49m:\n\u001b[0;32m      9\u001b[0m     \u001b[38;5;28mprint\u001b[39m(words[\u001b[38;5;241m0\u001b[39m])\n\u001b[0;32m     10\u001b[0m \u001b[38;5;28;01melse\u001b[39;00m:\n",
      "\u001b[1;31mTypeError\u001b[0m: object of type 'bool' has no len()"
     ]
    }
   ],
   "source": [
    "# Practise Exercise\n",
    "\n",
    "# Find the longest word\n",
    "# Count the vowels\n",
    "# largest number\n",
    "# sort prices in descending order\n",
    "\n",
    "words = [\"Python\", \"Programming\", \"Code\", \"Functions\"]\n",
    "\n",
    "\n",
    "if len(words[0] > words[1]):\n",
    "    print(words[0])\n",
    "else:\n",
    "    print(words[1])"
   ]
  }
 ],
 "metadata": {
  "kernelspec": {
   "display_name": "awfera",
   "language": "python",
   "name": "python3"
  },
  "language_info": {
   "codemirror_mode": {
    "name": "ipython",
    "version": 3
   },
   "file_extension": ".py",
   "mimetype": "text/x-python",
   "name": "python",
   "nbconvert_exporter": "python",
   "pygments_lexer": "ipython3",
   "version": "3.10.17"
  }
 },
 "nbformat": 4,
 "nbformat_minor": 5
}
