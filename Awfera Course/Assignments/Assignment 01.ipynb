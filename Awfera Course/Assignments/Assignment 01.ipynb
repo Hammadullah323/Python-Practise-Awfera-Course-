{
 "cells": [
  {
   "cell_type": "markdown",
   "id": "4f8a0fbc",
   "metadata": {},
   "source": [
    "# Assignmetn: 01\n",
    "\n",
    "Question No: 01\n",
    "\n",
    "    Problem: Write a Python program that takes a string as input and prints out the following: \n",
    "\n",
    "        1. The string in reverse order.\n",
    "        2. The Number of vowels in the string."
   ]
  },
  {
   "cell_type": "code",
   "execution_count": null,
   "id": "3d559cd0",
   "metadata": {},
   "outputs": [
    {
     "name": "stdout",
     "output_type": "stream",
     "text": [
      "Original string: Hello World.\n",
      "Reverse string: dlroW olleH.\n",
      "The number of vowels in the string are: 3.\n"
     ]
    }
   ],
   "source": [
    "string = input(\"Enter a string: \")\n",
    "print(f\"Original string: {string}.\")\n",
    "string1 = string[::-1]              #::-1 Reverses the string.\n",
    "print(f\"Reverse string: {string1}.\")\n",
    "vowel_count = 0\n",
    "for char in string.lower():\n",
    "    if char in \"aeiou\":         #char is built-in.\n",
    "        vowel_count += 1\n",
    "print(f\"The number of vowels in the string are: {vowel_count}.\") #Printing the number of vowels."
   ]
  },
  {
   "cell_type": "markdown",
   "id": "08f1fc04",
   "metadata": {},
   "source": [
    "Question No: 02\n",
    "\n",
    "    Create a Python program that: \n",
    "        Takes an input number from the user.\n",
    "        Checks whether the number is even or odd.\n",
    "        Prints the result. "
   ]
  },
  {
   "cell_type": "code",
   "execution_count": 13,
   "id": "bb0cd465",
   "metadata": {},
   "outputs": [
    {
     "name": "stdout",
     "output_type": "stream",
     "text": [
      "The 5 number is Odd.\n"
     ]
    }
   ],
   "source": [
    "even_odd = int(input(\"Enter a Number: \"))\n",
    "if even_odd % 2 == 0:\n",
    "    print(f\"The {even_odd} number is Even.\")\n",
    "else:\n",
    "    print(f\"The {even_odd} number is Odd.\")"
   ]
  },
  {
   "cell_type": "markdown",
   "id": "379685a8",
   "metadata": {},
   "source": [
    "Question No: 03\n",
    "\n",
    "    Create a Python program that: \n",
    "        Takes a list of integers as input.\n",
    "        Creates a new virtual environment called sortenv.\n",
    "        Installs a package (such as numpy) in the virtual environment.\n",
    "        Sorts the list using a numpy method (numpy.sort()).\n",
    "        Prints the sorted list. "
   ]
  },
  {
   "cell_type": "code",
   "execution_count": null,
   "id": "a6e501d4",
   "metadata": {},
   "outputs": [
    {
     "name": "stdout",
     "output_type": "stream",
     "text": [
      "✅ Sorted list: [1 2 5 8 9]\n"
     ]
    }
   ],
   "source": [
    "input_str = input(\"Enter a list of integers: \")\n",
    "int_list = list(map(int, input_str.split()))  # Convert to list of integers\n",
    "\n",
    "import numpy as np\n",
    "sorted_array = np.sort(int_list)  # Sort the list using numpy\n",
    "\n",
    "# 📤 Step 5: Print the sorted list\n",
    "print(\"✅ Sorted list:\", sorted_array)"
   ]
  }
 ],
 "metadata": {
  "kernelspec": {
   "display_name": "awfera",
   "language": "python",
   "name": "python3"
  },
  "language_info": {
   "codemirror_mode": {
    "name": "ipython",
    "version": 3
   },
   "file_extension": ".py",
   "mimetype": "text/x-python",
   "name": "python",
   "nbconvert_exporter": "python",
   "pygments_lexer": "ipython3",
   "version": "3.10.17"
  }
 },
 "nbformat": 4,
 "nbformat_minor": 5
}
