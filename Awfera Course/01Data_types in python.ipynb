{
 "cells": [
  {
   "cell_type": "markdown",
   "id": "2f4431f7",
   "metadata": {},
   "source": [
    "# Python Data Types for beginners\n",
    "\n",
    "In python, every piece of data is an object. Understanding Python's built in data types is fundamental for writing efficient, readable, and bug free programs. This notebook will introduce you to Python's core data types and show you best practices on how to work with them.\n",
    "\n",
    "# Primitive Data Types\n",
    "Primitive data types are basic data types that hold a single value.\n",
    "These are built-in and simple. e.g., int, float, string, bool, None\n",
    "\n",
    "# Non-primitive Data Types\n",
    "Non-primitive data types are complex structures that can store multiple values and can be customized.\n",
    "They are often built from primitive types. e.g., list, tuple, dictionary, set\n",
    "\n",
    "1. Numeric Types\n",
    "\n",
    "Python has three main numeric data types:\n",
    "\n",
    "1. integer (int) - Whole numbers (e.g., 0, 1, -5, 999).\n",
    "\n",
    "2. Float (float) - Numbers with decimal points or in exponential form (e.g., 3.14, 2.7e3).\n",
    "\n",
    "# 1.1 Integers\n",
    "Definition: Integers are whole numbers without fractional component.\n",
    "Example: -10, 0, 42."
   ]
  },
  {
   "cell_type": "code",
   "execution_count": null,
   "id": "ec866c76",
   "metadata": {},
   "outputs": [
    {
     "name": "stdout",
     "output_type": "stream",
     "text": [
      "num1: 42 <class 'int'>\n",
      "num2: -7 <class 'int'>\n",
      "num3: 0 <class 'int'>\n"
     ]
    }
   ],
   "source": [
    "# Examples of integers\n",
    "\n",
    "num1 = 42\n",
    "num2 = -7\n",
    "num3 = 0\n",
    "\n",
    "print(\"num1:\", num1, type(num1))\n",
    "print(\"num2:\", num2, type(num2))\n",
    "print(\"num3:\", num3, type(num3))\n",
    "#print(\"the message that i want to print as it is\", variable name, type(function) showing type of variable)\n",
    "#print is a function used for printing or output. syntax print()\n",
    "#type is also a function used for showing which type of variable is it. int, float, string"
   ]
  },
  {
   "cell_type": "markdown",
   "id": "f7f3da8c",
   "metadata": {},
   "source": [
    "Best Practices:\n",
    "\n",
    "1. Use Descriptive variable names: Instead of \"x\" or \"y\", use user_age or items_count.\n",
    "2. Handle potential overflow: In Python 3, integers are of unlimited size(limited by available memory), so you rarely need to worry about overflow.\n",
    "3. Avoid ambiguous naming: For example, O(capital letter O) or l(lowercase L) can be confused with numbers."
   ]
  },
  {
   "cell_type": "markdown",
   "id": "a86b6b37",
   "metadata": {},
   "source": [
    "# 1.2 Floats\n",
    "Definition: Floats represent real numbers that ainclude a fractional component.\n",
    "Examples: 3.14159, -0.001, 1.5e2(which equals to 150.0)."
   ]
  },
  {
   "cell_type": "code",
   "execution_count": 11,
   "id": "c17d3d5e",
   "metadata": {},
   "outputs": [
    {
     "name": "stdout",
     "output_type": "stream",
     "text": [
      "pi: 3.14159 <class 'float'>\n",
      "small_float: -0.001 <class 'float'>\n",
      "exp_flaot: 150.0 <class 'float'>\n",
      "numeric :  1000000 <class 'int'>\n"
     ]
    }
   ],
   "source": [
    "#Examples of floats\n",
    "\n",
    "pi = 3.14159\n",
    "small_float = -0.001\n",
    "exp_float = 1.5e2 # e used for power(150.0)\n",
    "numeric = 1_000_000 #Point 2 Best practise\n",
    "print(\"pi:\", pi, type(pi))\n",
    "print(\"small_float:\", small_float, type(small_float))\n",
    "print(\"exp_flaot:\", exp_float, type(exp_float))\n",
    "print(\"numeric : \", numeric, type(numeric))"
   ]
  },
  {
   "cell_type": "markdown",
   "id": "f7e787b5",
   "metadata": {},
   "source": [
    "Best Practices: \n",
    "\n",
    "1. Watch out for floating point precision issues. Use decimal or fractions modulesif you need precise decimal arithmetic(e.g., currency calculations).\n",
    "2. Use underscore for large numbers: Python 3.6+ allows underscores in numeric literals for readability, e.g., 1_000_000.0 instead of 1000000.0.\n",
    "3. Check your computations: Floating-point arithmeic can lead to subtle bugs in equaltiy checks.Be careful when checking if two decimal numbers are equal — computers can make tiny mistakes with decimals.for example: python Copy print(0.1 + 0.2 == 0.3) False. It's better to check if they are close enough instead of exactly equal. Prefer a tolerance-based approach if comparing floats\n",
    "\n",
    "\n"
   ]
  },
  {
   "cell_type": "code",
   "execution_count": 10,
   "id": "1e366fc3",
   "metadata": {},
   "outputs": [
    {
     "name": "stdout",
     "output_type": "stream",
     "text": [
      "Answer of decimal numbers :  False\n",
      "The value of a is:  0.30000000000000004\n",
      "Using abs(absolute Value) :  True\n",
      "Yeh aik recommended tariqa hai :  True\n"
     ]
    }
   ],
   "source": [
    "# Above Practise 3 Explanation :\n",
    "# Absolute value : \n",
    "#Absolute value ka matlab hai kisi number ka distance from 0, bina sign ke.\n",
    "#abs() ka kaam hai number ka sirf \"size\" lena, us ka negative ya positive sign ignore kar dena.\n",
    "#Agar aap abs(-5) karo to result 5 ayega, kyunke woh kehta hai:\n",
    "#\"Bas yeh batao ke yeh number 0 se kitna door hai, sign important nahi.\"\n",
    "\n",
    "print(\"Answer of decimal numbers : \",0.1 + 0.2 == 0.3)  #above best practise 3.\n",
    "\n",
    "a = 0.1 + 0.2\n",
    "print(\"The value of a is: \", a)\n",
    "\n",
    "b = 0.3\n",
    "tolerance = 1e-9  # very small number , yani jab do cheezein exactly barabar na hon, lekin itni qareeb hon ke unhein barabar mana ja sake.\n",
    "print(\"Using abs(absolute Value) : \",abs(a - b) < tolerance)  # abs() ek built-in Python function hai jo kisi bhi number ka \"absolute value\" return karta hai.\n",
    "\n",
    "\n",
    "# Function\n",
    "# Function ek block of code hota hai jo reusable hota hai — aap usay baar baar bula (call) sakte hain bina code dobara likhe.\n",
    "\n",
    "# Module\n",
    "# Module ek Python file yah library hoti hai jisme variables, functions, classes ya doosra code likha hota hai — jo aap kisi aur program mein use kar sakte hain.\n",
    "# Aap khud bhi apna module bana sakte hain, aur Python mein already bohat saare built-in modules hote hain.\n",
    "\n",
    "import math # math aik module hai\n",
    "\n",
    "print(\"Yeh aik recommended tariqa hai : \",math.isclose(0.1 + 0.2, 0.3))  # Recommended # isclose aik function hai jo math module mai built-in hai"
   ]
  },
  {
   "cell_type": "markdown",
   "id": "0489d907",
   "metadata": {},
   "source": [
    "# 2. Strings\n",
    "\n",
    "Definition: A string is a sequence of characters. In python, strings can be enclosed in single quotes('..'), double quotes(\"..\") or (\"\"\"...\"\"\") for multi-line strings.\n",
    "\n",
    "Examples: \"Hello World\", 'Python is great!', \"\"\"Tripple quoted can span multiple lines\"\"\"."
   ]
  },
  {
   "cell_type": "code",
   "execution_count": 13,
   "id": "35398c8e",
   "metadata": {},
   "outputs": [
    {
     "name": "stdout",
     "output_type": "stream",
     "text": [
      "Hello, Python! <class 'str'>\n",
      "I can use single quote too <class 'str'>\n",
      "This is a \n",
      "multi-line text or string. <class 'str'>\n"
     ]
    }
   ],
   "source": [
    "#Examples of Strings\n",
    "\n",
    "greeting = \"Hello, Python!\"\n",
    "quote = 'I can use single quote too'\n",
    "multiline_text = \"\"\"This is a \n",
    "multi-line text or string.\"\"\"\n",
    "\n",
    "print(greeting, type(greeting))\n",
    "print(quote, type(quote))\n",
    "print(multiline_text, type(multiline_text))"
   ]
  },
  {
   "cell_type": "markdown",
   "id": "6df8c203",
   "metadata": {},
   "source": [
    "## String Operations"
   ]
  },
  {
   "cell_type": "code",
   "execution_count": 14,
   "id": "d53aedf2",
   "metadata": {},
   "outputs": [
    {
     "name": "stdout",
     "output_type": "stream",
     "text": [
      "Full Name:  John Doe <class 'str'>\n",
      "Repetition:  HaHaHa <class 'str'>\n",
      "first_character:  H\n",
      "Negative_Indexing :  !\n",
      "sub_string:  Hello\n"
     ]
    }
   ],
   "source": [
    "#Concatenation : Concatenation ka matlab hota hai do ya zyada strings ko jorna (join karna)\n",
    "\n",
    "first_name = \"John\"\n",
    "last_name = \"Doe\"\n",
    "full_name = first_name + \" \" + last_name\n",
    "\n",
    "#Repetition : Repetition ka matlab hai ek string ko bar bar repeat karna kisi number of times.\n",
    "\n",
    "ha_3_imes = \"Ha\" * 3\n",
    "\n",
    "# Indexing : Indexing ka matlab hai string ke kisi ek character ko uski position se access karna.\n",
    "# Python mein indexing 0 se start hoti hai.\n",
    "# Negative indexing peeche se hoti hai. \n",
    "\n",
    "# Slicing : Slicing ka matlab hai string ka koi specific hissa (portion) nikaalna.\n",
    "\n",
    "#indexing and Slicing\n",
    "\n",
    "first_char = greeting[0]  # 'H' , greeting is in the above string portion.\n",
    "negative_indexing = greeting[-1] # '!' , \n",
    "sub_string = greeting[0:5] #'Hello'    greeeting[:5]\n",
    "\n",
    "print(\"Full Name: \",full_name, type(full_name))\n",
    "print(\"Repetition: \",ha_3_imes, type(ha_3_imes))\n",
    "print(\"first_character: \",first_char)\n",
    "print(\"Negative_Indexing : \", negative_indexing)\n",
    "print(\"sub_string: \",sub_string)"
   ]
  },
  {
   "cell_type": "markdown",
   "id": "d1717e07",
   "metadata": {},
   "source": [
    "Best Practices:\n",
    "\n",
    "1. Use f-string(formatted strings) for readability(Python 3.6+) "
   ]
  },
  {
   "cell_type": "code",
   "execution_count": 12,
   "id": "1695bfd4",
   "metadata": {},
   "outputs": [
    {
     "name": "stdout",
     "output_type": "stream",
     "text": [
      "My age is 25\n"
     ]
    }
   ],
   "source": [
    "age = 25\n",
    "print(f\"My age is {age}\")"
   ]
  },
  {
   "cell_type": "markdown",
   "id": "d58f4bed",
   "metadata": {},
   "source": [
    "# 3. Boolean Type\n",
    "\n",
    "Definition: Booleans are True or False values. Use: Typically used in condition checks, loops or logical evaluations."
   ]
  },
  {
   "cell_type": "code",
   "execution_count": 13,
   "id": "27ec6f0a",
   "metadata": {},
   "outputs": [
    {
     "name": "stdout",
     "output_type": "stream",
     "text": [
      "Is python Easy?  True <class 'bool'>\n",
      "Do you like Coffee?  False <class 'bool'>\n"
     ]
    }
   ],
   "source": [
    "is_pyton_easy = True   #False\n",
    "likes_coffee = False   #True\n",
    "\n",
    "print(\"Is python Easy? \",is_pyton_easy, type(is_pyton_easy))\n",
    "print(\"Do you like Coffee? \",likes_coffee, type(likes_coffee))"
   ]
  },
  {
   "cell_type": "markdown",
   "id": "be1f71b6",
   "metadata": {},
   "source": [
    "Best Practices: \n",
    "\n",
    "1. Ues descriptive names: instead of flag or status, use is_active or has_errors.\n",
    "2. Avoid comparing booleans to True of False directly.\n",
    "3. Keep booleans purely boolean: Resist the temptation to mix them with numbers. Although True behaves like 1 and False like 0, it makes the code less clear. "
   ]
  },
  {
   "cell_type": "code",
   "execution_count": 14,
   "id": "a7b87d7c",
   "metadata": {},
   "outputs": [
    {
     "name": "stdout",
     "output_type": "stream",
     "text": [
      "Yes, python is easy.\n"
     ]
    }
   ],
   "source": [
    "# instead of this is_python_easy\n",
    "#Do this\n",
    "if is_pyton_easy:                                                     #likes coffee\n",
    "    print(\"Yes, python is easy.\")   #False --> this does not execute  True -->execute"
   ]
  },
  {
   "cell_type": "markdown",
   "id": "5ab5983b",
   "metadata": {},
   "source": [
    "# 4. None Type:\n",
    "\n",
    "Definition: None represents the absence of value. Use: Often use as a placeholder for optional or missing data."
   ]
  },
  {
   "cell_type": "code",
   "execution_count": null,
   "id": "07ac1a98",
   "metadata": {},
   "outputs": [
    {
     "name": "stdout",
     "output_type": "stream",
     "text": [
      "Nothing: None <class 'NoneType'>\n"
     ]
    }
   ],
   "source": [
    "nothing_here = None  #3\n",
    "print(\"Nothing:\", nothing_here, type(nothing_here))"
   ]
  },
  {
   "cell_type": "markdown",
   "id": "6202faaa",
   "metadata": {},
   "source": [
    "Best Practices:\n",
    "\n",
    "1. Check for None with is None rather than  == None"
   ]
  },
  {
   "cell_type": "code",
   "execution_count": null,
   "id": "fd76de9e",
   "metadata": {},
   "outputs": [
    {
     "name": "stdout",
     "output_type": "stream",
     "text": [
      "This variable has no value\n"
     ]
    }
   ],
   "source": [
    "if nothing_here is None:\n",
    "    print(\"This variable has no value\")  #3 --> this does not execute"
   ]
  },
  {
   "cell_type": "markdown",
   "id": "cab46e4e",
   "metadata": {},
   "source": [
    "5. Collections Overview\n",
    "\n",
    "While primitive data types(like int,float,bool and str) hold single values, Python's built-in collections let you group multiple items in flexible ways.\n",
    "The four primary built-in colllections are:\n",
    "\n",
    "1. List-An Ordered mutable sequence.\n",
    "2. Tuple-An Ordered, immutable sequence.\n",
    "3. Dictionary-An unordered set of key-value pairs.\n",
    "4. Set-An unordered collection of unique elements.\n",
    "\n",
    "Below, We'll explore each in depth with code examples and best practices.\n",
    "\n",
    "5.1 List\n",
    "\n",
    "Def and Characteristics\n",
    "\n",
    "    1.A List is created using square brackets [] or the list() constructor. What is list constructor?\n",
    "    2.It is ordered, meaning elements retain(turteeb ko burqarar rukhna) the order in which they are inserted.\n",
    "    3.It is mutable: You can add, remove or modify elements after creation.\n"
   ]
  },
  {
   "cell_type": "code",
   "execution_count": 23,
   "id": "bba160a2",
   "metadata": {},
   "outputs": [
    {
     "name": "stdout",
     "output_type": "stream",
     "text": [
      "Empty list is:  []\n",
      "The list of numbers is:  [10, 20, 30, 40]\n",
      "The mixed list is:  ['Hello', 3.14, True]\n",
      "10\n",
      "40\n",
      "30\n"
     ]
    }
   ],
   "source": [
    "# Creating list in different ways\n",
    "\n",
    "empty_list = []\n",
    "numbers = [10,20,30,40]\n",
    "mixed_list = [\"Hello\", 3.14, True]\n",
    "\n",
    "\n",
    "print(\"Empty list is: \", empty_list)\n",
    "print(\"The list of numbers is: \", numbers)\n",
    "print(\"The mixed list is: \", mixed_list)\n",
    "\n",
    "# Accessing Elements by index\n",
    "first_num = numbers[0]      #first_num = numbers[-4]\n",
    "last_num = numbers[3]       #last_num = numbers[-1]\n",
    "num2 = numbers[-2]\n",
    "\n",
    "print(first_num)\n",
    "print(last_num)\n",
    "print(num2)\n",
    "\n",
    "#We can use either 0,1,2,3 from beginning or from end we use -1,-2,-3,-4 etc for indexing."
   ]
  },
  {
   "cell_type": "markdown",
   "id": "5978d556",
   "metadata": {},
   "source": [
    "Adding,Removing and modifying elements"
   ]
  },
  {
   "cell_type": "code",
   "execution_count": 24,
   "id": "2bebb5f5",
   "metadata": {},
   "outputs": [
    {
     "name": "stdout",
     "output_type": "stream",
     "text": [
      "[10, 20, 30, 40]\n",
      "[10, 20, 30, 40, 50]\n",
      "[10, 20, 15, 30, 40, 50]\n",
      "[10, 20, 15, 30, 40]\n",
      "[10, 15, 30, 40]\n",
      "Modified list:  [10, 25, 30, 40]\n"
     ]
    }
   ],
   "source": [
    "# Adding elements\n",
    "print(numbers)\n",
    "numbers.append(50) #adding value at the end\n",
    "print(numbers)\n",
    "\n",
    "numbers.insert(2, 15) #Adding value at a specific location(index). here 2 is the index number\n",
    "print(numbers)\n",
    "\n",
    "# Removing Elements\n",
    "numbers.pop()  # Removes and return the last item\n",
    "print(numbers)\n",
    "\n",
    "numbers.remove(20) #Removes the first occurance of 20 this means that if we have multiple same values(like 20) [10,20,30,20] then it will remove 20 of index 1 [10,30,20] \n",
    "print(numbers)\n",
    "\n",
    "# Modifying an element\n",
    "numbers[1] = 25\n",
    "\n",
    "print(\"Modified list: \",numbers)\n"
   ]
  },
  {
   "cell_type": "markdown",
   "id": "6d76e463",
   "metadata": {},
   "source": [
    "5.2 Tuple\n",
    "\n",
    "Def and Characteristics\n",
    "\n",
    "    1.A tuple is created using parantheses () or the tuple constructor. What is tuple constructor?\n",
    "    2.It is ordered similar to a list.\n",
    "    3.It is immuntable: You cannot add,remove, or change the elements once defined. Creation & Basic Operations"
   ]
  },
  {
   "cell_type": "code",
   "execution_count": null,
   "id": "b88d199b",
   "metadata": {},
   "outputs": [
    {
     "name": "stdout",
     "output_type": "stream",
     "text": [
      "Empty Tuple:  ()\n",
      "Single Element Value:  (24,)\n",
      "Tuple having numbers:  (10, 20, 30, 40)\n",
      "Mixed Tuple:  ('Hammad', 24, True)\n",
      "The first element of numbers_tuple is:  10\n",
      "Sub Tuple is:  (20, 30, 40)\n"
     ]
    }
   ],
   "source": [
    "#Creating Tuples\n",
    "empty_tuple = ()\n",
    "print(\"Empty Tuple: \",empty_tuple)\n",
    "\n",
    "single_element_tuple = (24,)  #24, means that it is not just simple integer value but inside tuple it's a single value\n",
    "print(\"Single Element Value: \",single_element_tuple)\n",
    "\n",
    "numbers_tuple = (10,20,30,40)\n",
    "print(\"Tuple having numbers: \",numbers_tuple)\n",
    "\n",
    "mixed_tuple = (\"Hammad\", 24, True)\n",
    "print(\"Mixed Tuple: \", mixed_tuple)\n",
    "\n",
    "#Accessing elements by index in tuple\n",
    "first_element = numbers_tuple[0]   #equals to #first_element = numbers_tuple[-4]\n",
    "print(\"The first element of numbers_tuple is: \",first_element)\n",
    "\n",
    "#Slicing works similarly to list\n",
    "sub_tuple = numbers_tuple[1:]   #(20, 30, 40) #including index 1 element\n",
    "print(\"Slicied Sub Tuple is: \",sub_tuple)"
   ]
  },
  {
   "cell_type": "code",
   "execution_count": null,
   "id": "155dee89",
   "metadata": {},
   "outputs": [
    {
     "name": "stdout",
     "output_type": "stream",
     "text": [
      "Error:  'tuple' object does not support item assignment\n"
     ]
    }
   ],
   "source": [
    "#This code is trying to change a value inside a tuple, which is not allowed.\n",
    "#It uses a try-except block to catch the error gracefully and print an error message instead of crashing the program.\n",
    "\n",
    "#Try to modify a tuple will raise an error\n",
    "try:                        #This begins a try block, which is used to write code that might raise an exception (error).\n",
    "    numbers_tuple[1] = 99  #If an exception occurs inside the try block, Python will jump to the except block to handle the error instead of crashing the program.\n",
    "except TypeError as e:      #This catches a TypeError that may have occurred in the try block.\n",
    "    print(\"Error: \", e)     #The error object is stored in variable e, so it can be printed or used."
   ]
  },
  {
   "cell_type": "code",
   "execution_count": 12,
   "id": "2ab2febb",
   "metadata": {},
   "outputs": [
    {
     "name": "stdout",
     "output_type": "stream",
     "text": [
      "Name:  Bob\n",
      "Age:  30\n",
      "Job:  Engineer\n"
     ]
    }
   ],
   "source": [
    "#Unpacking a tuple\n",
    "person_tuple = (\"Bob\", 30, \"Engineer\")\n",
    "name, age, Job = person_tuple  #Unpacking tuple in order\n",
    "\n",
    "print(\"Name: \", name)\n",
    "print(\"Age: \", age)\n",
    "print(\"Job: \",Job)"
   ]
  },
  {
   "cell_type": "markdown",
   "id": "e84dd8a8",
   "metadata": {},
   "source": [
    "Best Practices for tuple\n",
    "\n",
    "    1.Use Tuples for fixed collections of items that do not change, like coordinates or constant data.\n",
    "    2.Leverage tuple unpacking to write cleaner code when returning multiple values of a function.Use tuple unpacking in a smart way to make your code cleaner, shorter, or more readable.\n",
    "    3.Do not modify:If you need t ofrequently alter the collection, consider a list.\n",
    "\n",
    "5.3 Dictionary:\n",
    "\n",
    "Def and characteristics\n",
    "\n",
    "    1.A dictionary is created using curly braces{} with key-value pairs, or using dict().\n",
    "    2.It is an unordered(though Python 3.7+ maintains an insertion order as an implementation detail).\n",
    "    3.Keys must be unique and immutable(e.g., strings, numbers,tuples). Values can be anything. 14. t is mutable: You can add, remove or change key-value pairs.\n",
    "\n",
    "\n",
    "Creation and Basic Operations"
   ]
  },
  {
   "cell_type": "code",
   "execution_count": null,
   "id": "c4f757bb",
   "metadata": {},
   "outputs": [
    {
     "name": "stdout",
     "output_type": "stream",
     "text": [
      "Empty Dictionary:  {}\n",
      "Person Dictionary:  {'name': 'Alice', 'age': 21}\n",
      "another Distionary:  {'city': 'London', 'country': 'UK'}\n",
      "Name: Alice\n",
      "Age:  None\n"
     ]
    }
   ],
   "source": [
    "# Creating Dictionaries\n",
    "empty_dict = {}\n",
    "person_dict = {\"name\": \"Alice\", \"age\": 21}\n",
    "another_dict = dict(city=\"London\", country=\"UK\") #dict is a function used for creating dictionaries\n",
    "\n",
    "print(\"Empty Dictionary: \",empty_dict)\n",
    "print(\"Person Dictionary: \",person_dict)\n",
    "print(\"another Distionary: \",another_dict)\n",
    "\n",
    "#Accessing value by key\n",
    "print(\"Name:\", person_dict[\"name\"])\n",
    "print(\"Age: \", person_dict.get(\"age\"))  #.get returns None i key is not found"
   ]
  },
  {
   "cell_type": "markdown",
   "id": "ce163859",
   "metadata": {},
   "source": [
    "Adding, Updating and removing Keys"
   ]
  },
  {
   "cell_type": "code",
   "execution_count": 15,
   "id": "6aaad1e9",
   "metadata": {},
   "outputs": [
    {
     "name": "stdout",
     "output_type": "stream",
     "text": [
      "{'name': 'Alice', 'City': 'Karak', 'age': 22}\n",
      "{'name': 'Alice', 'City': 'Karak', 'age': 22}\n",
      "The remove value is:  22\n",
      "{'name': 'Alice', 'City': 'Karak'}\n",
      "Name key is present.\n",
      "Keys:  dict_keys(['name', 'City'])\n",
      "Values:  dict_values(['Alice', 'Karak'])\n",
      "Items:  dict_items([('name', 'Alice'), ('City', 'Karak')])\n"
     ]
    }
   ],
   "source": [
    "#Updating a key value pair\n",
    "person_dict[\"age\"] = 22  #Update\n",
    "print(person_dict)\n",
    "\n",
    "#Adding a key value pair\n",
    "person_dict[\"City\"] = \"Karak\"\n",
    "print(person_dict)  #If key is not present then adds as well automatically.\n",
    "\n",
    "#Removing a key value pair\n",
    "remove_value = person_dict.pop(\"age\")\n",
    "print(\"The remove value is: \",remove_value)\n",
    "print(person_dict)\n",
    "\n",
    "#Checking if a key is present\n",
    "if \"name\" in person_dict:\n",
    "    print(\"Name key is present.\")\n",
    "else:\n",
    "    print(\"None\")\n",
    "\n",
    "\n",
    "print(\"Keys: \", person_dict.keys())\n",
    "print(\"Values: \", person_dict.values())\n",
    "print(\"Items: \", person_dict.items())\n"
   ]
  },
  {
   "cell_type": "markdown",
   "id": "e3a40d9f",
   "metadata": {},
   "source": [
    "Best Practices for Dictionaries\n",
    "\n",
    "    1.Use Dictionaries when you need fast lookups by keys.\n",
    "    2.Keys should be immutable and descriptive(e.g., strings that convey meaning).\n",
    "    3.Use .get(key, default) to avoid key error whe na key might not exist.\n",
    "    4.Keys are great for configuration data, or bundling related data attributes without creating a custom class.\n",
    "\n",
    "5.4 Sets\n",
    "\n",
    "Definition & Characteristics\n",
    "\n",
    "    1.A set is created using {} or the set constructor.\n",
    "    2.It is an unordered and does not allow duplicate elements.\n",
    "    3.It is mutable: You can add or remove elements.\n",
    "\n",
    "Creation and Basic Operations"
   ]
  },
  {
   "cell_type": "code",
   "execution_count": 25,
   "id": "92a7a626",
   "metadata": {},
   "outputs": [
    {
     "name": "stdout",
     "output_type": "stream",
     "text": [
      "Empty Set:  set()\n",
      "Number Set:  {1, 2, 3}\n",
      "Mixed Set {42, (1, 2), 'apple'}\n",
      "{1, 2, 3, 4}\n",
      "{1, 2, 4}\n"
     ]
    }
   ],
   "source": [
    "empty_set = set()\n",
    "numbers_set = {1,2,3,2} #Duplicate elements are removed automatically.\n",
    "mixed_set = {\"apple\", 42, (1, 2)} #We can store immutable types like tuples\n",
    "\n",
    "print(\"Empty Set: \",empty_set)\n",
    "print(\"Number Set: \",numbers_set)\n",
    "print(\"Mixed Set\",mixed_set)\n",
    "\n",
    "#Adding and Removing Elements\n",
    "numbers_set.add(4)\n",
    "print(numbers_set)\n",
    "\n",
    "#Removing elements\n",
    "numbers_set.discard(3)  #Removes 2 if exists, no error if does not exists\n",
    "print(numbers_set)\n",
    "\n",
    "# numbers_set.remove(0)   #Removes 2 if exists,  error if does not exists\n",
    "# print(numbers_set)"
   ]
  },
  {
   "cell_type": "markdown",
   "id": "8d730426",
   "metadata": {},
   "source": [
    "Set Operations\n",
    "\n",
    "Sets support mathematical operations like union, intersection, difference etc"
   ]
  },
  {
   "cell_type": "code",
   "execution_count": null,
   "id": "d31590b3",
   "metadata": {},
   "outputs": [
    {
     "name": "stdout",
     "output_type": "stream",
     "text": [
      "Union:  {1, 2, 3, 4, 5}\n",
      "Intersection:  {3}\n",
      "Difference:  {1, 2}\n",
      "Difference:  {4, 5}\n",
      "Symmetric:  {1, 2, 4, 5}\n"
     ]
    }
   ],
   "source": [
    "set_a = {1, 2, 3}\n",
    "set_b = {3, 4, 5}\n",
    "\n",
    "#Union\n",
    "print(\"Union: \", set_a.union(set_b))\n",
    "\n",
    "#Intersection\n",
    "print(\"Intersection: \", set_a.intersection(set_b))\n",
    "\n",
    "#Difference: \n",
    "print(\"Difference: \", set_a.difference(set_b))  #set_a - set_b\n",
    "print(\"Difference: \",set_b.difference(set_a)) #set_b - set_a\n",
    "\n",
    "#Symmetric difference: elements in either set a or set b but not in both\n",
    "print(\"Symmetric: \", set_a.symmetric_difference(set_b))"
   ]
  },
  {
   "cell_type": "markdown",
   "id": "2cc2852e",
   "metadata": {},
   "source": [
    "Best Practices for sets\n",
    "\n",
    "    1.Use sets when you need to efficiently test for membership(in check) and remove duplicates.\n",
    "    2.Avoid storing mutable items in sets- items must be hashable(immutable).\n",
    "    3.Use set operations for cleaner and more efficient code when dealing with membership and overlaps."
   ]
  }
 ],
 "metadata": {
  "kernelspec": {
   "display_name": "awfera",
   "language": "python",
   "name": "python3"
  },
  "language_info": {
   "codemirror_mode": {
    "name": "ipython",
    "version": 3
   },
   "file_extension": ".py",
   "mimetype": "text/x-python",
   "name": "python",
   "nbconvert_exporter": "python",
   "pygments_lexer": "ipython3",
   "version": "3.10.17"
  }
 },
 "nbformat": 4,
 "nbformat_minor": 5
}
