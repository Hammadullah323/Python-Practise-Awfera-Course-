{
 "cells": [
  {
   "cell_type": "markdown",
   "id": "3e0cc6ed",
   "metadata": {},
   "source": [
    "# Operators in Python\n",
    "\n",
    "Python provides various operators to perform computations and logical operations. This notebook will cover different types of operators and their usage with examples.\n",
    "\n",
    "# Assignment Operator\n",
    "\n",
    "Assignment Operator are used to assign value to variables. For Example, = assigns a value, while += adds & assigns."
   ]
  },
  {
   "cell_type": "code",
   "execution_count": null,
   "id": "f7724110",
   "metadata": {},
   "outputs": [
    {
     "name": "stdout",
     "output_type": "stream",
     "text": [
      "x:  8\n"
     ]
    }
   ],
   "source": [
    "#Assignment Operator Example\n",
    "x = 5  # Assigning value\n",
    "x += 3 #Equivalent to x = x + 3\n",
    "print(\"x: \",x)\n",
    "print(\"x: \",x)"
   ]
  },
  {
   "cell_type": "markdown",
   "id": "71e53eb2",
   "metadata": {},
   "source": [
    "# Arithmetic Operators\n",
    "\n",
    "Arithmetic Operations are used for mathematical operations like addition, subtraction, multiplication and divison."
   ]
  },
  {
   "cell_type": "code",
   "execution_count": null,
   "id": "b6661124",
   "metadata": {},
   "outputs": [
    {
     "name": "stdout",
     "output_type": "stream",
     "text": [
      "Addition:  13\n",
      "Subtraction:  7\n",
      "Multiplication:  30\n",
      "Divison:  3.3333333333333335\n",
      "Modulus:  1\n",
      "Floor Divison:  3\n",
      "Exponentiation:  1000\n"
     ]
    }
   ],
   "source": [
    "# Arithmetic Operations\n",
    "a, b = 10 ,3\n",
    "print(\"Addition: \", a + b) #Adds\n",
    "print(\"Subtraction: \", a - b) #Subtract\n",
    "print(\"Multiplication: \", a * b) #Multiply\n",
    "print(\"Divison: \", a / b) #divides  we get \"quotient\".\n",
    "print(\"Modulus: \", a % b) #Remainder\n",
    "print(\"Floor Divison: \", a // b) # Floor Divison. shows only the whole part after divison not the decimal part.\n",
    "print(\"Exponentiation: \", a ** b) #Power"
   ]
  },
  {
   "cell_type": "markdown",
   "id": "12b827c3",
   "metadata": {},
   "source": [
    "# Comparison Operators\n",
    "\n",
    "Comaprison Operators are used to compare values and returns True or False. gives boolean outputs"
   ]
  },
  {
   "cell_type": "code",
   "execution_count": null,
   "id": "e93aeebc",
   "metadata": {},
   "outputs": [
    {
     "name": "stdout",
     "output_type": "stream",
     "text": [
      "x > y:  False\n",
      "x < y:  False\n",
      "x == y:  True\n",
      "x != y:  False\n",
      "x >= y:  True\n",
      "x <= y:  True\n"
     ]
    }
   ],
   "source": [
    "# Comparison Operators\n",
    "\n",
    "x, y = 5, 10\n",
    "print(\"x > y: \", x > y) #Greater then\n",
    "print(\"x < y: \", x < y) #Less then\n",
    "print(\"x == y: \", x == y) #Equals to\n",
    "print(\"x != y: \", x != y) #Not equal to\n",
    "print(\"x >= y: \", x >= y) #Greater then or equal to\n",
    "print(\"x <= y: \", x <= y) #Less then or equal to "
   ]
  },
  {
   "cell_type": "markdown",
   "id": "8cd6a36c",
   "metadata": {},
   "source": [
    "# Logical Operators\n",
    "\n",
    "Logical Operators(and, or, not) are used to combine multiple conditions.\n",
    "Used for Logic building mostly.\n"
   ]
  },
  {
   "cell_type": "code",
   "execution_count": null,
   "id": "c20bf472",
   "metadata": {},
   "outputs": [
    {
     "name": "stdout",
     "output_type": "stream",
     "text": [
      "a and b:  False\n",
      "a or b:  True\n"
     ]
    }
   ],
   "source": [
    "#Logical Operators\n",
    "a, b = True, False  #c = True\n",
    "print(\"a and b: \", a and b) #Two or more then two conditions must be True then True.   a and b and c: False\n",
    "print(\"a or b: \", a or b) #If any one condition is True then True.                     a or b or c: True\n",
    "print(\"not a: \", not a) #Reverses the condition. True --> False, False --> True        \n"
   ]
  }
 ],
 "metadata": {
  "kernelspec": {
   "display_name": "awfera",
   "language": "python",
   "name": "python3"
  },
  "language_info": {
   "codemirror_mode": {
    "name": "ipython",
    "version": 3
   },
   "file_extension": ".py",
   "mimetype": "text/x-python",
   "name": "python",
   "nbconvert_exporter": "python",
   "pygments_lexer": "ipython3",
   "version": "3.10.17"
  }
 },
 "nbformat": 4,
 "nbformat_minor": 5
}
