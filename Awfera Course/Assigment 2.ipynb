{
 "cells": [
  {
   "cell_type": "code",
   "execution_count": 6,
   "id": "b092abb4",
   "metadata": {},
   "outputs": [
    {
     "name": "stdout",
     "output_type": "stream",
     "text": [
      "Uppercase string: HELLO\n",
      "The Number 8 is Even.\n",
      "Doubled float is 6.28\n",
      "Boolean is True\n"
     ]
    }
   ],
   "source": [
    "import string\n",
    "user_string = input(\"Enter a string: \")\n",
    "integer = int(input(\"Enter an integer: \"))\n",
    "float1 = float(input(\"Enter a float: \"))\n",
    "bool1 = bool(input(\"Enter a bool (True/False): \"))\n",
    "upper_string = user_string.upper()\n",
    "print(f\"Uppercase string: {upper_string}\")\n",
    "if integer % 2 == 0:\n",
    "    print(f\"The Number {integer} is Even.\")\n",
    "else:\n",
    "    print(f\"The Number {integer} is Odd.\")\n",
    "\n",
    "Multiply = float1 * 2\n",
    "print(f\"Doubled float is {Multiply}\")\n",
    "\n",
    "print(f\"Boolean is {bool1}\")"
   ]
  },
  {
   "cell_type": "code",
   "execution_count": 7,
   "id": "aa1cc367",
   "metadata": {},
   "outputs": [
    {
     "name": "stdout",
     "output_type": "stream",
     "text": [
      "Addition of 10 and 3 is:  13\n",
      "Subtraction of 10 and 3 is:  7\n",
      "Multiplication of 10 and 3 is: 30\n",
      "Diviion of 10 and 3 is:  3.3333333333333335\n",
      "Modulus of 10 and 3 is:  1\n",
      "floor Division of 10 and 3 is:  3\n",
      "First number is greater than second: True\n",
      "First number is equal to second: False\n",
      "Both conditions are true: True\n"
     ]
    }
   ],
   "source": [
    "a = int(input(\"Enter a number: \"))\n",
    "b = int(input(\"Enter second Number: \"))\n",
    "print(f\"Addition of {a} and {b} is: \",a+b)\n",
    "print(f\"Subtraction of {a} and {b} is: \",a-b)\n",
    "print(f\"Multiplication of {a} and {b} is:\",a*b)\n",
    "print(f\"Diviion of {a} and {b} is: \",a/b)\n",
    "print(f\"Modulus of {a} and {b} is: \",a%b)\n",
    "print(f\"floor Division of {a} and {b} is: \", a//b)\n",
    "\n",
    "is_greater = a > b\n",
    "is_equal = a == b\n",
    "both_conditions = is_greater and not is_equal\n",
    "\n",
    "print(f\"First number is greater than second: {is_greater}\")\n",
    "print(f\"First number is equal to second: {is_equal}\")\n",
    "print(f\"Both conditions are true: {both_conditions}\")"
   ]
  },
  {
   "cell_type": "code",
   "execution_count": null,
   "id": "e9632b96",
   "metadata": {},
   "outputs": [
    {
     "name": "stdout",
     "output_type": "stream",
     "text": [
      "5\n",
      "10\n",
      "Skipping number 12\n",
      "Skipping number 15\n",
      "Skipping number 20\n",
      "8\n",
      "The loop ended naturally.\n"
     ]
    }
   ],
   "source": [
    "input_str = input(\"Enter a list of integers separated by spaces: \")\n",
    "num_list = [int(num) for num in input_str.split()]\n",
    "for num in num_list:\n",
    "    if num > 10:\n",
    "        print(f\"Skipping number {num}\")\n",
    "        continue  # Skip numbers greater than 10\n",
    "    if num == 20:\n",
    "        break     # Stop the loop if number is 20\n",
    "    print(f\"{num}\")\n",
    "else:\n",
    "    # Step 5: This runs only if the loop ends naturally (not broken)\n",
    "    print(\"The loop ended naturally.\")"
   ]
  }
 ],
 "metadata": {
  "kernelspec": {
   "display_name": "awfera",
   "language": "python",
   "name": "python3"
  },
  "language_info": {
   "codemirror_mode": {
    "name": "ipython",
    "version": 3
   },
   "file_extension": ".py",
   "mimetype": "text/x-python",
   "name": "python",
   "nbconvert_exporter": "python",
   "pygments_lexer": "ipython3",
   "version": "3.10.17"
  }
 },
 "nbformat": 4,
 "nbformat_minor": 5
}
