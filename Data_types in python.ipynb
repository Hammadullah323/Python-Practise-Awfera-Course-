{
 "cells": [
  {
   "cell_type": "markdown",
   "id": "2f4431f7",
   "metadata": {},
   "source": [
    "# Python Data Types for beginners\n",
    "\n",
    "In python, every piece of data is an object. Understanding Python's built in data types is fundamental for writing efficient, readable, and bug free programs. This notebook will introduce you to Python's core data types and show you best practices on how to work with them.\n",
    "\n",
    "1. Numeric Types\n",
    "\n",
    "Python has three main numeric data types:\n",
    "\n",
    "1. integer (int) - Whole numbers (e.g., 0, 1, -5, 999).\n",
    "\n",
    "2. Float (float) - Numbers with decimal points or in exponential form (e.g., 3.14, 2.7e3).\n",
    "\n",
    "1.1 Integers\n",
    "# Definition: Integers are whole numbers without fractional component.\n",
    "Example: -10, 0, 42."
   ]
  },
  {
   "cell_type": "code",
   "execution_count": null,
   "id": "ec866c76",
   "metadata": {},
   "outputs": [
    {
     "name": "stdout",
     "output_type": "stream",
     "text": [
      "num1: 42 <class 'int'>\n",
      "num2: -7 <class 'int'>\n",
      "num3: 0 <class 'int'>\n"
     ]
    }
   ],
   "source": [
    "# Examples of integers\n",
    "\n",
    "num1 = 42\n",
    "num2 = -7\n",
    "num3 = 0\n",
    "\n",
    "print(\"num1:\", num1, type(num1))\n",
    "print(\"num2:\", num2, type(num2))\n",
    "print(\"num3:\", num3, type(num3))\n",
    "#print(\"the message that i want to print as it is\", variable name, type(function) showing type of variable)\n",
    "#print is a function used for printing or output. syntax print()\n",
    "#type is also a function used for showing which type of variable is it. int, float, string"
   ]
  },
  {
   "cell_type": "markdown",
   "id": "f7f3da8c",
   "metadata": {},
   "source": [
    "Best Practices:\n",
    "\n",
    "1. Use Descriptive variable names: Instead of \"x\" or \"y\", use user_age or items_count.\n",
    "2. Handle potential overflow: In Python 3, integers are of unlimited size(limited by available memory), so you rarely need to worry about overflow.\n",
    "3. Avoid ambiguous naming: For example, O(capital letter O) or l(lowercase L) can be confused with numbers."
   ]
  },
  {
   "cell_type": "markdown",
   "id": "a86b6b37",
   "metadata": {},
   "source": [
    "1.2 Floats\n",
    "# Definition: Floats represent real numbers that ainclude a fractional component.\n",
    "Examples: 3.14159, -0.001, 1.5e2(which equals to 150.0)."
   ]
  },
  {
   "cell_type": "code",
   "execution_count": 4,
   "id": "c17d3d5e",
   "metadata": {},
   "outputs": [
    {
     "name": "stdout",
     "output_type": "stream",
     "text": [
      "pi: 3.14159 <class 'float'>\n",
      "small_float: -0.001 <class 'float'>\n",
      "exp_flaot: 150.0 <class 'float'>\n"
     ]
    }
   ],
   "source": [
    "#Examples of floats\n",
    "\n",
    "pi = 3.14159\n",
    "small_float = -0.001\n",
    "exp_float = 1.5e2 # e used for power(150.0)\n",
    "\n",
    "print(\"pi:\", pi, type(pi))\n",
    "print(\"small_float:\", small_float, type(small_float))\n",
    "print(\"exp_flaot:\", exp_float, type(exp_float))"
   ]
  },
  {
   "cell_type": "markdown",
   "id": "f7e787b5",
   "metadata": {},
   "source": [
    "Best Practices: \n",
    "\n",
    "1. Watch out for floating point precision issues. Use decimal or fractions modulesif you need precise decimal arithmetic(e.g., currency calculations).\n",
    "2. Use underscore for large numbers: Python 3.6+ allows underscores in numeric literals for readability, e.g., 1_000_000.0 instead of 1000000.0.\n",
    "3. Check your computations: Floating-point arithmeic can lead to subtle bugs in equaltiy checks.Be careful when checking if two decimal numbers are equal — computers can make tiny mistakes with decimals.for example: python Copy print(0.1 + 0.2 == 0.3) False. It's better to check if they are close enough instead of exactly equal. Prefer a tolerance-based approach if comparing floats\n",
    "\n",
    "\n"
   ]
  },
  {
   "cell_type": "code",
   "execution_count": 34,
   "id": "1e366fc3",
   "metadata": {},
   "outputs": [
    {
     "name": "stdout",
     "output_type": "stream",
     "text": [
      "True\n",
      "False\n",
      "True\n"
     ]
    }
   ],
   "source": [
    "a = 0.1 + 0.2\n",
    "b = 0.3\n",
    "tolerance = 1e-9  # very small number\n",
    "print(abs(a - b) < tolerance)\n",
    "print(0.1 + 0.2 == 0.3)  #above best practise 3.\n",
    "\n",
    "import math\n",
    "\n",
    "print(math.isclose(0.1 + 0.2, 0.3))  # Recommended"
   ]
  },
  {
   "cell_type": "code",
   "execution_count": null,
   "id": "c519f859",
   "metadata": {},
   "outputs": [
    {
     "name": "stdout",
     "output_type": "stream",
     "text": [
      "Sum is:  15\n",
      "Subtraction of Numbers is: 16.\n",
      "Multiplication of Numbers is: 4.92\n",
      "Division of 24 by 5 is: 4.8\n",
      "The remainder when 24 is divided by 5 is: 4\n",
      "The square of given number is: 25\n",
      "The average of three numbers is: 4.0\n",
      "After converting to cm we get: 7.62cm.\n",
      "The area of rectangle is: 15cm²\n",
      "The perimeter of rectangle is: 16cm\n",
      "The final price after discount is: 84.5\n",
      "Area of Circle is: 2512.0\n"
     ]
    }
   ],
   "source": [
    "#Practise \n",
    "#Addition of Numbers\n",
    "a = 10\n",
    "b = 5\n",
    "print(\"Sum is: \", a+b)\n",
    "#print(f\"Sum is {a+b}\")\n",
    "\n",
    "#Subtraction of Numbers\n",
    "s = 20\n",
    "t = 4\n",
    "print(f\"Subtraction of Numbers is: {s-t}.\")\n",
    "\n",
    "#Multiplication of two Numbers\n",
    "m = 1.23\n",
    "n = 4\n",
    "print(f\"Multiplication of Numbers is: {m*n}\")\n",
    "\n",
    "#Division of two numbers\n",
    "d = 24\n",
    "v = 5\n",
    "print(f\"Division of 24 by 5 is: {d/v}\")\n",
    "\n",
    "#Remainder \n",
    "r = 24\n",
    "i = 5\n",
    "print(f\"The remainder when 24 is divided by 5 is: {r%i}\")\n",
    "\n",
    "#Square of number\n",
    "q = 5\n",
    "print(f\"The square of given number is: {q**2}\")\n",
    "\n",
    "#Average of three numbers\n",
    "g = 3\n",
    "e = 4\n",
    "w = 5\n",
    "print(f\"The average of three numbers is: {(g+e+w)/3}\")\n",
    "\n",
    "#Converting inches to cm\n",
    "#Formula: cm = inches*2.54\n",
    "inches = 3\n",
    "print(f\"After converting to cm we get: {inches*2.54}cm.\")\n",
    "\n",
    "#Area of Rectangle\n",
    "length = 5\n",
    "width = 3\n",
    "print(f\"The area of rectangle is: {length*width}cm\\u00B2\")  #\\u00B2 a unicode for printing square in superscript.\n",
    "print(f\"The perimeter of rectangle is: {2*(length+width)}cm\")\n",
    "\n",
    "#Calculating price after discount\n",
    "original_price = 100.0\n",
    "discount = 15.5\n",
    "print(f\"The final price after discount is: {original_price - discount}\")\n",
    "\n",
    "#Area of circle\n",
    "radius = 20\n",
    "pi = 3.14\n",
    "print(f\"Area of Circle is: {2*pi*radius*radius}\")   #radius*radius = radius**2\n",
    "#print(\"Area of circle is: \", 2*pi*radius*radius)\n",
    "\n",
    "# My Code Highlights\n",
    "\n",
    "# Addition – Correct and simple ✔\n",
    "\n",
    "# Subtraction – Nice use of f-string ✔\n",
    "\n",
    "# Multiplication – Used a float and an int ✔\n",
    "\n",
    "# Division – Correct result as a float ✔\n",
    "\n",
    "# Remainder – % operator used correctly ✔\n",
    "\n",
    "# Square – Used ** operator ✔\n",
    "\n",
    "# Average – Formula is perfect ✔\n",
    "\n",
    "# Inches to cm – Used 2.54 conversion ✔\n",
    "\n",
    "# Area of Rectangle – Used Unicode \\u00B2 properly ✔\n",
    "\n",
    "# Perimeter – Bonus! Great addition ✔\n",
    "\n",
    "# Final price after discount – Clean and correct ✔\n"
   ]
  },
  {
   "cell_type": "code",
   "execution_count": null,
   "id": "bf1aa557",
   "metadata": {},
   "outputs": [
    {
     "name": "stdout",
     "output_type": "stream",
     "text": [
      "The Body Mass Index(BMI): 0.0018818924310286425 kg/m²\n"
     ]
    }
   ],
   "source": [
    "\n",
    "#Level 2\n",
    "\n",
    "#Temperature from celsius to fahrenheit and from fahrenheit to celsius\n",
    "#Formula: F = (c * 9/5) + 32\n",
    "\n",
    "cel_sius = float(input(\"Enter Temperature in Celsius: \"))  #input() always returns a string. Use of int or float is to convert them into desired integer or flaoting point nmber.\n",
    "fahren_heit = float(input(\"Enter Temperature in Fahrenheit: \"))\n",
    "Fah = (cel_sius * 9/5) + 32\n",
    "Cel = (fahren_heit - 32) * 5/9\n",
    "print(f\"The temperature in Fahrenheit is: {Fah}\\u00B0F.\")  #\\u00B0F unicode \n",
    "print(F\"The temperature in Celsius is: {Cel}\\u00B0C.\")     #\\u00B0C unicode\n",
    "\n",
    "#Calculating Simple Interest\n",
    "#Formula: SI = (P * R * T) / 100\n",
    "\n",
    "principal = float(input(\"Enter Principal(P): \"))\n",
    "rate = float(input(\"Enter rate(R): \"))\n",
    "time = float(input(\"Enter Time(T): \")) \n",
    "simple_interest = (principal * rate * time) / 100\n",
    "print(f\"The Simple interest is: {simple_interest}\")\n",
    "\n",
    "#Circumference of Circle\n",
    "#Formula: 2 *pi *r\n",
    "#Area of Circle\n",
    "#Formula: 2* pi * r * r\n",
    "\n",
    "radius = float(input(\"Enter Radius of circle: \"))\n",
    "pi = 3.14\n",
    "print(f\"The Circumference of circle is: {2 * pi * radius}\")\n",
    "print(f\"The area of circle is: {2 * pi * radius**2}\")\n",
    "\n",
    "#Converting Kilometers to miles\n",
    "#Formula: miles = km * 0.621371\n",
    "\n",
    "kilo_meter = float(input(\"Enter distance in kilometers: \"))\n",
    "print(f\"The distance in miles is: {kilo_meter * 0.621371} miles\")\n",
    "\n",
    "#Calculating speed\n",
    "#Formula: s = d / t\n",
    "\n",
    "distance = float(input(\"Enter distance in meters: \"))\n",
    "time = float(input(\"Enter time in seconds: \"))\n",
    "print(f\"The spped is: {distance / time} m/s.\") \n",
    "\n",
    "#Clculating volume of cube\n",
    "#Formula: volume = side*side*side\n",
    "\n",
    "side = float(input(\"Enter side length of cube in cm: \"))\n",
    "print(f\"The volume of cube is: {side**3} cm\\u00B3\")\n",
    "\n",
    "#Volume of Cylinder\n",
    "#Formula: pt * r * r * h\n",
    "\n",
    "p_i = 3.14\n",
    "radius_of_cylinder = float(input(\"Enter radius of cylinder in cm: \"))\n",
    "height = float(input(\"Enter height of cylinder in cm: \"))\n",
    "print(f\"The volume of Cylinder is: {p_i * height * radius_of_cylinder**2} cm\\u00B3\")\n",
    "\n",
    "#Swapping two variables\n",
    "number1 = 2\n",
    "number2 = 3\n",
    "number3 = number1\n",
    "print(\"Assign number1 to number 3: \",number3)\n",
    "number1 = number2\n",
    "print(\"then assign number2 to number1: \",number1)\n",
    "number2 = number3\n",
    "print(\"Now assign number3(number1) to number2\",number2)\n",
    "\n",
    "#Calculating BMI\n",
    "#Formula: BMI = weight / (height * height)\n",
    "weiGht = int(input(\"Enter weight in kgs: \"))\n",
    "heiGht = int(input(\"Enter height in cm: \"))\n",
    "print(f\"The Body Mass Index(BMI): {weiGht / (heiGht**2)} kg/m\\u00B2\")\n",
    "\n",
    "\n"
   ]
  },
  {
   "cell_type": "code",
   "execution_count": null,
   "id": "1e1a4263",
   "metadata": {},
   "outputs": [
    {
     "name": "stdout",
     "output_type": "stream",
     "text": [
      "The EMI is: 200.45454545454547\n",
      "The EMI is: 200.45454545454547\n"
     ]
    }
   ],
   "source": [
    "#Level 3\n",
    "\n",
    "#Calculating Compound interest\n",
    "#Formula: CI = P * (1 + R/100)^T - P\n",
    "\n",
    "Principal = float(input(\"Enter Principal: \"))\n",
    "Rate = float(input(\"Enter Rate: \"))\n",
    "Time = int(input(\"Enter time in years: \"))\n",
    "print(f\"The compound interest is: {(Principal * (1 + (Rate / 100)**Time)) - Principal}\")\n",
    "\n",
    "#Convert time in minutes to hours and minutes  & seconds to hours,minutes,seconds\n",
    "minutes = int(input(\"Enter time in minutes: \"))\n",
    "print(f\"The time in hours and minutes is: {minutes // 60} hours and {minutes % 60} minutes.\")\n",
    "#//(floor division operator) this shows only the int part only not the decimal part. %(mod) shows the remaining remainder.\n",
    "seconds = int(input(\"Enter Seconds: \"))\n",
    "hours = seconds // 3600\n",
    "seconds_left = seconds % 3600\n",
    "minutes = seconds_left // 60\n",
    "seconds_left = seconds_left % 60\n",
    "\n",
    "print(f\"The time in hour, minutes and seconds is: {hours} hours, {minutes} minutes, {seconds_left} seconds.\")\n",
    "\n",
    "\n",
    "#Calculating area of triangle using herons formula\n",
    "#Formula: semi-perimeter(h) = side1+side2+side3 / 2 ;  then area = underroot(h(h-a)(h-b)(h-c))\n",
    "import math\n",
    "side1 = int(input(\"Enter fist side of triangle: \"))\n",
    "side2 = int(input(\"Enter 2nd side of triangle: \"))\n",
    "side3 = int(input(\"Enter 3rd side of triangle: \"))\n",
    "\n",
    "h = (side1 + side2 + side3) / 2\n",
    "print(\"The Semi-perimeter is: \", h)\n",
    "j = math.sqrt((h * (h - side1) * (h - side2) * (h - side3)))\n",
    "print(\"The area of triangle is: \", j)\n",
    "\n",
    "\n",
    "#Converting days to years, weeks and days    1 year = 12months, 365 days\n",
    "days = int(input(\"Enter number of days: \"))\n",
    "years = days // 365\n",
    "days_left = days % 365\n",
    "months = days_left // 30\n",
    "days_left = days_left % 30\n",
    "weeks = days_left // 7\n",
    "days_left = days_left % 7\n",
    "print(f\"The number of years, months, weeks and days are: {years} years, {months} months, {weeks} weeks, and {days_left} days.\")\n",
    "\n",
    "#Density of an object\n",
    "#Formula: Density = Mass / Volume\n",
    "\n",
    "Mass = int(input(\"Enter Mass: \"))\n",
    "Volume = int(input(\"Enter Volume: \"))\n",
    "print(f\"The Density of an object is: {Mass / Volume} kg/m\\u00B3\")\n",
    "\n",
    "#Calculating final velocity using kinematic equation\n",
    "#Formula: v = u + a * t\n",
    "initial_velocity = float(input(\"Enter initial velocity(m/s): \"))\n",
    "acceleration = float(input(\"Enter Acceleration(m/s\\u00B2): \"))\n",
    "times = int(input(\"Enter time(s): \"))\n",
    "print(f\"The Final velocity is: {initial_velocity + acceleration * times} m/s.\")\n",
    "\n",
    "#Calculating marks and percentage of five subjects out of 500\n",
    "sub1 = int(input(\"Enter Marks of sub1: \"))\n",
    "sub2 = int(input(\"Enter Marks of sub2: \"))\n",
    "sub3 = int(input(\"Enter Marks of sub3: \"))\n",
    "sub4 = int(input(\"Enter Marks of sub4: \"))\n",
    "sub5 = int(input(\"Enter Marks of sub5: \"))\n",
    "obtained_marks = sub1 + sub2 + sub3 + sub4 + sub5\n",
    "print(\"Total Marks obtained: \",obtained_marks)\n",
    "print(\"Percentage is: \",(obtained_marks / 500) * 100)\n",
    "\n",
    "#Converting km/h to m/s\n",
    "\n",
    "#Formula: speed in m/s = speed in km/h *(1000/3600)\n",
    "speed_in_kmh = int(input(\"Enter Speed in km/h: \"))\n",
    "print(f\"The speed in m/s is {speed_in_kmh * (1000 / 3600)} m/s.\")\n",
    "\n",
    "#Calculated monthly EMI(Equated monthly installments)\n",
    "#Formaula: EMI = (P*R*(1+R)**N)/(1+R)**N -1\n",
    "principal_loan_amount = int(input(\"Enter principal loan amount: \"))\n",
    "monthly_interest_rate = float(input(\"Enter monthly interest rate: \"))\n",
    "no_of_months = int(input(\"Enter number of months\"))\n",
    "\n",
    "numerator = principal_loan_amount * monthly_interest_rate * (1 + monthly_interest_rate)**no_of_months\n",
    "denominator = ((1+monthly_interest_rate)**no_of_months) - 1\n",
    "EMI = (principal_loan_amount * monthly_interest_rate * (1 + monthly_interest_rate)**no_of_months) / (((1 + monthly_interest_rate)**no_of_months) - 1)\n",
    "print(f\"The EMI is: {numerator / denominator}\")\n",
    "print(f\"The EMI is: {EMI}\")"
   ]
  },
  {
   "cell_type": "markdown",
   "id": "0489d907",
   "metadata": {},
   "source": [
    "2. Strings\n",
    "\n",
    "# Definition: A string is a sequence of characters. In python, strings can be enclosed in single quotes('..'), double quotes(\"..\") or (\"\"\"...\"\"\") for multi-line strings.\n",
    "\n",
    "Examples: \"Hello World\", 'Python is great!', \"\"\"Tripple quoted can span multiple lines\"\"\"."
   ]
  },
  {
   "cell_type": "code",
   "execution_count": null,
   "id": "35398c8e",
   "metadata": {},
   "outputs": [
    {
     "name": "stdout",
     "output_type": "stream",
     "text": [
      "False\n",
      "Hello, Python! <class 'str'>\n",
      "I can use single quote too <class 'str'>\n",
      "This is a \n",
      "multi-line text or string. <class 'str'>\n"
     ]
    }
   ],
   "source": [
    "#Examples of Strings\n",
    "\n",
    "greeting = \"Hello, Python!\"\n",
    "quote = \"I can use single quote too\"\n",
    "multiline_text = \"\"\"This is a \n",
    "multi-line text or string.\"\"\"\n",
    "\n",
    "print(greeting, type(greeting))\n",
    "print(quote, type(quote))\n",
    "print(multiline_text, type(multiline_text))"
   ]
  },
  {
   "cell_type": "markdown",
   "id": "6df8c203",
   "metadata": {},
   "source": [
    "## String Operations"
   ]
  },
  {
   "cell_type": "code",
   "execution_count": null,
   "id": "d53aedf2",
   "metadata": {},
   "outputs": [
    {
     "name": "stdout",
     "output_type": "stream",
     "text": [
      "Full Name:  John Doe <class 'str'>\n",
      "Repetition:  HaHaHa <class 'str'>\n",
      "first_character:  H\n",
      "sub_string:  Hello\n"
     ]
    }
   ],
   "source": [
    "#Concatenation\n",
    "\n",
    "first_name = \"John\"\n",
    "last_name = \"Doe\"\n",
    "full_name = first_name + \" \" + last_name\n",
    "\n",
    "#Repetition\n",
    "\n",
    "ha_3_imes = \"Ha\" * 3\n",
    "\n",
    "#indexing and Slicing\n",
    "\n",
    "first_char = greeting[0]  # 'H' , greeting is in the above string portion.\n",
    "sub_string = greeting[0:5] #'Hello'\n",
    "\n",
    "print(\"Full Name: \",full_name, type(full_name))\n",
    "print(\"Repetition: \",ha_3_imes, type(ha_3_imes))\n",
    "print(\"first_character: \",first_char)\n",
    "print(\"sub_string: \",sub_string)"
   ]
  },
  {
   "cell_type": "markdown",
   "id": "d1717e07",
   "metadata": {},
   "source": [
    "Best Practices:\n",
    "\n",
    "1. Use f-string(formatted strings) for readability(Python 3.6+) "
   ]
  },
  {
   "cell_type": "code",
   "execution_count": 12,
   "id": "1695bfd4",
   "metadata": {},
   "outputs": [
    {
     "name": "stdout",
     "output_type": "stream",
     "text": [
      "My age is 25\n"
     ]
    }
   ],
   "source": [
    "age = 25\n",
    "print(f\"My age is {age}\")"
   ]
  },
  {
   "cell_type": "code",
   "execution_count": null,
   "id": "b02f4c72",
   "metadata": {},
   "outputs": [
    {
     "name": "stdout",
     "output_type": "stream",
     "text": [
      "I am learning Python.\n"
     ]
    }
   ],
   "source": [
    "#Practice\n",
    "\n",
    "#Asking for user name and greet him\n",
    "name = input(\"Enter your name: \")\n",
    "print(f\"Hi {name}!\")\n",
    "\n",
    "#asking for username and age and print them\n",
    "name1 = input(\"What is your name? \")\n",
    "age1 = int(input(\"What is your age? \"))\n",
    "print(f\"Your name is {name1}, and your are {age1} years old.\")\n",
    "\n",
    "#Ask for two numbers and print their sum in sentence\n",
    "numb1 = int(input(\"Enter first number: \"))\n",
    "numb2 = int(input(\"Enter second number: \"))\n",
    "sum1 = numb1 + numb2\n",
    "print(f\"The sum of {numb1} and {numb2} is {sum1}.\")\n",
    "\n",
    "#create a sentence using concatenation.\n",
    "phrase1 = input(\"Enter first phrase: \")\n",
    "phrase2 = input(\"Enter second phrase: \")\n",
    "print(f\"{phrase1} is {phrase2}\")\n",
    "\n",
    "#Ask for city name and print\n",
    "city = input(\"Enter your City name: \")\n",
    "print(f\"Welcom to {city}!\")\n",
    "\n",
    "#Repeat a user given words five times\n",
    "words = input(\"Enter a word: \")\n",
    "print(f\"{words}\"*5)\n",
    "\n",
    "#Ask for name and favourite color and combine in a sentence\n",
    "user_name = input(\"Enter your name: \")\n",
    "fav_color = input(\"Enter your favourite color: \")\n",
    "print(f\"{user_name} likes the color {fav_color}.\")\n",
    "\n",
    "#Ask the product name and price and show in a sentence.\n",
    "prod_name = input(\"Enter Product name: \")\n",
    "price = float(input(\"Enter price: \"))\n",
    "print(f\"The price of {prod_name} is {price} rupees.\")\n",
    "\n",
    "#Ask for school name and grade\n",
    "school = input(\"Enter your school name: \")\n",
    "grade = int(input(\"Enter your grade: \"))\n",
    "print(f\"Student of {school} in Grade {grade}.\")\n",
    "\n",
    "#Ask for favourite programming language\n",
    "fav_language = input(\"Enter your favourite language: \")\n",
    "print(f\"I am learning {fav_language}.\")"
   ]
  },
  {
   "cell_type": "code",
   "execution_count": null,
   "id": "536c1fa7",
   "metadata": {},
   "outputs": [
    {
     "name": "stdout",
     "output_type": "stream",
     "text": [
      "I am Learning Python\n",
      "Yes\n"
     ]
    }
   ],
   "source": [
    "#Level 2\n",
    "\n",
    "#Ask the user for their full name. Print their username as the first letter of the first name + last name in lowercase.\n",
    "user_name1 = input(\"Enter your name: \")\n",
    "parts = user_name1.split()  #split used for spliting first and last name and convert to list.\n",
    "print(parts)   #shows list\n",
    "print(parts[0])  #This gives first element of list\n",
    "first_initial = parts[0][0]  #the first [0] takes element from a list the other one takes element from that string\n",
    "#print(first_initial) \n",
    "last_initial = parts[1] #printing second element of list\n",
    "#print(last_initial)\n",
    "combine = first_initial + last_initial\n",
    "print(combine.lower())\n",
    "\n",
    "#Email Domain Extractor\n",
    "email = input(\"Enter your email: \")\n",
    "print(email)\n",
    "parts1 = email.split(\"@\")   #Split the string into list of words. before & after '@'\n",
    "print(parts1)\n",
    "print(parts1[1])\n",
    "\n",
    "#Upper and lower case\n",
    "msg = input(\"Enter a word: \")\n",
    "print(\"Lower Case: \",msg.lower())\n",
    "print(\"Upper Case: \",msg.upper())\n",
    "print(\"Length: \", len(msg))\n",
    "\n",
    "#Word Counter\n",
    "sentence = input(\"Enter a sentence: \")\n",
    "word1 = input(\"Enter a word: \")\n",
    "letter = input(\"Enter a letter: \")\n",
    "print(\"Sentence: \",sentence)\n",
    "print(\"Word: \",word1)\n",
    "print(\"The number of words present in sentence is: \",sentence.count(word1))\n",
    "print(\"The number of letters present in word is: \",word1.count(letter))\n",
    "\n",
    "#Name Formatter\n",
    "name_formatter = input(\"Enter name having extra spaces spaces: \")\n",
    "print(name_formatter)\n",
    "orig_length1 = len(name_formatter)\n",
    "print(\"Original Length: \",orig_length1)\n",
    "cleand_name = name_formatter.strip()    #.strip --> removes spaces from start and end.\n",
    "print(\"Strip Name:\",cleand_name)\n",
    "cleand_name = cleand_name.split()       #.split --> splits the string into a list of words, removing all extra spaces between them.\n",
    "print(\"Clean Name: \",cleand_name)\n",
    "cleand_name = \" \".join(cleand_name)    #.join -->  joins the words back with a single space.\n",
    "print(\"Join Name: \",cleand_name)        \n",
    "clean_name = len(cleand_name)\n",
    "print(\"Clean name length: \",clean_name)\n",
    "\n",
    "#Replace a word\n",
    "sentence1 = input(\"Enter a Sentence: \")\n",
    "print(\"Sentence: \",sentence1)\n",
    "old_word = input(\"Enter a word that you want to replace: \")\n",
    "print(\"old word: \",old_word)\n",
    "new_word = input(\"Enter new word that you want to use: \")\n",
    "print(\"New word: \",new_word)\n",
    "update_sentence = sentence1.replace(old_word, new_word)\n",
    "print(update_sentence)\n",
    "\n",
    "#Checking image file\n",
    "file_name = input(\"enter file name: \")\n",
    "print(\"file name: \",file_name)\n",
    "file_name = file_name.lower()  #Here .lower works bcz to handle the .jpg or .png bcz in below if else we write these in lowercase.\n",
    "print(\"Lower: \", file_name)\n",
    "if file_name.endswith(\".jpg\") or file_name.endswith(\".png\"):\n",
    "    print(\"This is an image file\")\n",
    "else:\n",
    "    print(\"This is not an image file.\")\n",
    "\n",
    "#Sentence Splitter\n",
    "items = input(\"Enter comma separated items: \")\n",
    "split_items = items.split(\",\")\n",
    "print(split_items)\n",
    "for items in split_items:   \n",
    "    print(items.strip()) #new line by default # print(item.strip(), end=\" \") same line\n",
    "\n",
    "#Check for palindrome(spelled the same backward)\n",
    "word2 = input(\"Enter a word: \")\n",
    "print(\"Word is: \",word2)\n",
    "if word2 == word2[::-1]:  # ::-1 reverses the string\n",
    "    print(\"It's a palindrome.\")\n",
    "else:\n",
    "    print(\"Not a palindrome(spelled exactly as backward).\")\n",
    "\n",
    "#check a word in sentence\n",
    "sentence2 = input(\"Enter a sentence: \")\n",
    "print(sentence2)\n",
    "if \"python\" in sentence2.lower():\n",
    "    print(\"Yes\")\n",
    "else:\n",
    "    print(\"No\")\n",
    "\n",
    "\n"
   ]
  },
  {
   "cell_type": "markdown",
   "id": "d58f4bed",
   "metadata": {},
   "source": [
    "3. Boolean Type\n",
    "\n",
    "# Definition: Booleans are True or False values. Use: Typically used in condition checks, loops or logical evaluations."
   ]
  },
  {
   "cell_type": "code",
   "execution_count": 13,
   "id": "27ec6f0a",
   "metadata": {},
   "outputs": [
    {
     "name": "stdout",
     "output_type": "stream",
     "text": [
      "Is python Easy?  True <class 'bool'>\n",
      "Do you like Coffee?  False <class 'bool'>\n"
     ]
    }
   ],
   "source": [
    "is_pyton_easy = True   #False\n",
    "likes_coffee = False   #True\n",
    "\n",
    "print(\"Is python Easy? \",is_pyton_easy, type(is_pyton_easy))\n",
    "print(\"Do you like Coffee? \",likes_coffee, type(likes_coffee))"
   ]
  },
  {
   "cell_type": "markdown",
   "id": "be1f71b6",
   "metadata": {},
   "source": [
    "Best Practices: \n",
    "\n",
    "1. Ues descriptive names: instead of flag or status, use is_active or has_errors.\n",
    "2. Avoid comparing booleans to True of False directly.\n",
    "3. Keep booleans purely boolean: Resist the temptation to mix them with numbers. Although True behaves like 1 and False like 0, it makes the code less clear. "
   ]
  },
  {
   "cell_type": "code",
   "execution_count": 14,
   "id": "a7b87d7c",
   "metadata": {},
   "outputs": [
    {
     "name": "stdout",
     "output_type": "stream",
     "text": [
      "Yes, python is easy.\n"
     ]
    }
   ],
   "source": [
    "# instead of this is_python_easy\n",
    "#Do this\n",
    "if is_pyton_easy:                                                     #likes coffee\n",
    "    print(\"Yes, python is easy.\")   #False --> this does not execute  True -->execute"
   ]
  },
  {
   "cell_type": "markdown",
   "id": "5ab5983b",
   "metadata": {},
   "source": [
    "4. None Type:\n",
    "\n",
    "# Definition: None represents the absence of value. Use: Often use as a placeholder for optional or missing data."
   ]
  },
  {
   "cell_type": "code",
   "execution_count": null,
   "id": "07ac1a98",
   "metadata": {},
   "outputs": [
    {
     "name": "stdout",
     "output_type": "stream",
     "text": [
      "Nothing: None <class 'NoneType'>\n"
     ]
    }
   ],
   "source": [
    "nothing_here = None  #3\n",
    "print(\"Nothing:\", nothing_here, type(nothing_here))"
   ]
  },
  {
   "cell_type": "markdown",
   "id": "6202faaa",
   "metadata": {},
   "source": [
    "Best Practices:\n",
    "\n",
    "1. Check for None with is None rather than  == None"
   ]
  },
  {
   "cell_type": "code",
   "execution_count": null,
   "id": "fd76de9e",
   "metadata": {},
   "outputs": [
    {
     "name": "stdout",
     "output_type": "stream",
     "text": [
      "This variable has no value\n"
     ]
    }
   ],
   "source": [
    "if nothing_here is None:\n",
    "    print(\"This variable has no value\")  #3 --> this does not execute"
   ]
  },
  {
   "cell_type": "code",
   "execution_count": null,
   "id": "f925f6e8",
   "metadata": {},
   "outputs": [
    {
     "name": "stdout",
     "output_type": "stream",
     "text": [
      "My favourite movie name is: Harry Porter\n"
     ]
    }
   ],
   "source": [
    "#Level 1\n",
    "\n",
    "#Simple Age Check\n",
    "name2 = input(\"Enter your name: \")\n",
    "Age = int(input(\"Enter your age: \"))\n",
    "if bool(Age > 18):  #if Age > 18:\n",
    "    print(f\"Your name is {name2} and you are {Age} years old.\")\n",
    "else:\n",
    "    print(False)\n",
    "\n",
    "\n",
    "#Discount Eligibility\n",
    "price_of_item = float(input(\"What is the price of that item? \"))\n",
    "if bool(price_of_item > 100): #if price_of_item > 100:\n",
    "    print(\"Eligible for discount.\")\n",
    "else:\n",
    "    print(\"Not Eligible.\")\n",
    "\n",
    "#Is value set\n",
    "item = input(\"Enter Item Name: \")\n",
    "if item.strip() == \"\":              #.strip() -->Removes an extra spaces. from start and end.\n",
    "    item = None\n",
    "\n",
    "if item is None:\n",
    "    print(\"No Given Item.\")\n",
    "else:\n",
    "    print(f\"Item is: {item}.\")\n",
    "\n",
    "#Is python lover?\n",
    "Love = input(\"Are you a python Lover? (yes/no) \")\n",
    "is_pyton_lover = Love.lower() == \"yes\"  #.lower() lower all the letters to avoid Yes or YES etc.\n",
    "if is_pyton_lover:\n",
    "    print(\"Welcome to Python Club!\")\n",
    "else:\n",
    "    print(\"You will love python one day.\")\n",
    "\n",
    "#Speed Calculator\n",
    "\n",
    "distance1 = int(input(\"Enter Distance in km: \"))\n",
    "time1 = int(input(\"Enter time in hours: \"))\n",
    "speed = distance1 / time1\n",
    "print(f\"The speed is: {speed:.2f} km/h.\")\n",
    "if bool(speed > 100):\n",
    "    print(\"Overspeeding: \", True)\n",
    "else:\n",
    "    print(\"No Overspeeding: \", False)\n",
    "\n",
    "#Full Name length checker\n",
    "first_name1 = input(\"Enter First Name: \")\n",
    "last_name1 = input(\"Enter Last Name: \")\n",
    "concate = first_name1 + \"\" + last_name1 #concate = first_name1 + \" \" + last_name1\n",
    "print(concate)\n",
    "print(len(concate))  #Print the length of characters in string\n",
    "if len(concate) > 15:\n",
    "    print(\"Long Name:\", True)\n",
    "else:\n",
    "    print(\"Short Name: \",False)\n",
    "\n",
    "#Asking user for a favourite movie\n",
    "fav_movie = input(\"Enter your Favourite Movie Name: \")\n",
    "if fav_movie.strip() == \"\":\n",
    "    fav_movie = None\n",
    "if fav_movie is None:\n",
    "    print(\"Nothing\")\n",
    "else:\n",
    "    print(f\"My favourite Movie name is: {fav_movie}\")"
   ]
  },
  {
   "cell_type": "code",
   "execution_count": null,
   "id": "1d10848c",
   "metadata": {},
   "outputs": [
    {
     "name": "stdout",
     "output_type": "stream",
     "text": [
      "Hammad Ullah\n",
      "11\n",
      "Short.\n"
     ]
    }
   ],
   "source": [
    "# Level 2\n",
    "\n",
    "#Calculating BMI\n",
    "#Formula: BMI = weight / (height * height)\n",
    "print(\"🧮 BMI Calculator\")\n",
    "height1 = int(input(\"Enter height in meters: \")) #float\n",
    "weight1 = int(input(\"Enter weight in kgs: \"))   #float\n",
    "bmi = weight1 / (height1 * height1)\n",
    "if bmi < 18.5:\n",
    "    print(\"🦴 UnderWeight.\")\n",
    "elif 18.5 <= bmi < 25:\n",
    "    print(\"🏋️ Normal.\") \n",
    "elif 25 <= bmi < 30:\n",
    "    print(\"🍔 Overweight.\")\n",
    "elif bmi >= 30:\n",
    "    print(\"⚠️ Obese\")\n",
    "else:\n",
    "    print(\"⚠️ Wrong Input\")\n",
    "\n",
    "#Name and Favorite Color Validator\n",
    "user_name2 = input(\"Enter Your Name: \")\n",
    "fav_color1 = input(\"Enter your favourite color: \")\n",
    "if user_name2.strip() == \"\" and fav_color1.strip() == \"\":  #if user_name2.strip() == \"\" or fav_color1.strip() == \"\": corrected\n",
    "    print(\"🚫 Missing Input\")\n",
    "else:\n",
    "    print(f\"👋Salam, {user_name2} and your favourite color is {fav_color1}.\")\n",
    "# If user_name2 is empty → condition is true → code inside runs.\n",
    "\n",
    "# Or if fav_color1 is empty → condition is true → code inside runs.\n",
    "\n",
    "# Or if both are empty → condition is still true → code inside runs.\n",
    "\n",
    "# Only if both have some non-empty value will the condition be false, and the else-part executes.\n",
    "\n",
    "\n",
    "\n",
    "#Speed Checker + Speed Category\n",
    "distance2 = int(input(\"Enter distance in km: \"))\n",
    "time2 = int(input(\"Enter time in hours: \"))\n",
    "speed = distance2 / time2 #print(f\"The speed 🚗 is {distance2 / time2} km/h.\")\n",
    "print(f\"Speed is: {speed} km/h.\")\n",
    "if speed > 120:\n",
    "    print(\"🏎️ Very Fast!!!\")\n",
    "elif 80 <= speed <= 120:      #elif 80 <= speed <= 120: corrected\n",
    "    print(\"🚘 Fast!!\")\n",
    "else:\n",
    "    print(\" 🚶Normal Speed!\")\n",
    "\n",
    "#🐍Python fan Survey\n",
    "user_name2 = input(\"Do you love python? yes/no\")\n",
    "Love1 = user_name2.lower() == \"yes\"\n",
    "if Love1:\n",
    "    print(\"💚 You are awesome.\")\n",
    "else:\n",
    "    print(\"🤔Try it, you might like it.\")\n",
    "\n",
    "\n",
    "# password Strength checker\n",
    "# Module: A module is just a file that contains Python code (like functions, variables, or classes) that you can reuse in your own programs.\n",
    "import getpass\n",
    "\n",
    "password = getpass.getpass(\"🔐 Enter your password: \")\n",
    "if len(password) < 6:\n",
    "    print(\"🧨 Weak Password.\")\n",
    "elif password == password.lower():\n",
    "    print(\"⚠️ Common Password.\")\n",
    "else:\n",
    "    print(\"✅ Password Looks strong.\")\n",
    "\n",
    "#Age Checker\n",
    "Age1 = int(input(\"Enter Your age: \"))\n",
    "if Age1 >= 18:\n",
    "    print(\"✅\",True)\n",
    "else:\n",
    "    print(\"❌\",False)\n",
    "\n",
    "#Price Validator with None\n",
    "price1_input = input(\"Enter the price: \")\n",
    "if price1_input.strip() == \"\":\n",
    "    price1 = None\n",
    "    print(\"🚫Price not entered.\")\n",
    "else:\n",
    "    price1 = float(price1_input)\n",
    "    print(f\"🧾The Price is: {price1:.2f}\")\n",
    "\n",
    "#Full Name Character Count\n",
    "first_name2 = input(\"Enter First Name: \")\n",
    "last_name2 = input(\"Enter Last Name: \")\n",
    "concate1 = first_name2 + \" \" + last_name2\n",
    "print(concate1)\n",
    "\n",
    "char_count = len(concate1.replace(\" \", \"\"))  #.replace() --> Replace old with new one. .replace(old, new)\n",
    "print(char_count)\n",
    "if char_count > 20:\n",
    "    print(concate1)\n",
    "    print(\"Too long name.\")\n",
    "else:\n",
    "    print(\"Short.\")\n",
    "\n"
   ]
  },
  {
   "cell_type": "markdown",
   "id": "cab46e4e",
   "metadata": {},
   "source": [
    "5. Collections Overview\n",
    "\n",
    "While primitive data types(like int,float,bool and str) hold single values, Python's built-in collections let you group multiple items in flexible ways.\n",
    "The four primary built-in colllections are:\n",
    "\n",
    "1. List-An Ordered mutable sequence.\n",
    "2. Tuple-An Ordered, immutable sequence.\n",
    "3. Dictionary-An unordered set of key-value pairs.\n",
    "4. Set-An unordered collection of unique elements.\n",
    "\n",
    "Below, We'll explore each in depth with code examples and best practices.\n",
    "\n",
    "5.1 List\n",
    "\n",
    "Def and Characteristics\n",
    "\n",
    "    1.A List is created using square brackets [] or the list() constructor. What is list constructor?\n",
    "    2.It is ordered, meaning elements retain(turteeb ko burqarar rukhna) the order in which they are inserted.\n",
    "    3.It is mutable: You can add, remove or modify elements after creation.\n"
   ]
  },
  {
   "cell_type": "code",
   "execution_count": 23,
   "id": "bba160a2",
   "metadata": {},
   "outputs": [
    {
     "name": "stdout",
     "output_type": "stream",
     "text": [
      "Empty list is:  []\n",
      "The list of numbers is:  [10, 20, 30, 40]\n",
      "The mixed list is:  ['Hello', 3.14, True]\n",
      "10\n",
      "40\n",
      "30\n"
     ]
    }
   ],
   "source": [
    "# Creating list in different ways\n",
    "\n",
    "empty_list = []\n",
    "numbers = [10,20,30,40]\n",
    "mixed_list = [\"Hello\", 3.14, True]\n",
    "\n",
    "\n",
    "print(\"Empty list is: \", empty_list)\n",
    "print(\"The list of numbers is: \", numbers)\n",
    "print(\"The mixed list is: \", mixed_list)\n",
    "\n",
    "# Accessing Elements by index\n",
    "first_num = numbers[0]      #first_num = numbers[-4]\n",
    "last_num = numbers[3]       #last_num = numbers[-1]\n",
    "num2 = numbers[-2]\n",
    "\n",
    "print(first_num)\n",
    "print(last_num)\n",
    "print(num2)\n",
    "\n",
    "#We can use either 0,1,2,3 from beginning or from end we use -1,-2,-3,-4 etc for indexing."
   ]
  },
  {
   "cell_type": "markdown",
   "id": "5978d556",
   "metadata": {},
   "source": [
    "Adding,Removing and modifying elements"
   ]
  },
  {
   "cell_type": "code",
   "execution_count": 24,
   "id": "2bebb5f5",
   "metadata": {},
   "outputs": [
    {
     "name": "stdout",
     "output_type": "stream",
     "text": [
      "[10, 20, 30, 40]\n",
      "[10, 20, 30, 40, 50]\n",
      "[10, 20, 15, 30, 40, 50]\n",
      "[10, 20, 15, 30, 40]\n",
      "[10, 15, 30, 40]\n",
      "Modified list:  [10, 25, 30, 40]\n"
     ]
    }
   ],
   "source": [
    "# Adding elements\n",
    "print(numbers)\n",
    "numbers.append(50) #adding value at the end\n",
    "print(numbers)\n",
    "\n",
    "numbers.insert(2, 15) #Adding value at a specific location(index). here 2 is the index number\n",
    "print(numbers)\n",
    "\n",
    "# Removing Elements\n",
    "numbers.pop()  # Removes and return the last item\n",
    "print(numbers)\n",
    "\n",
    "numbers.remove(20) #Removes the first occurance of 20 this means that if we have multiple same values(like 20) [10,20,30,20] then it will remove 20 of index 1 [10,30,20] \n",
    "print(numbers)\n",
    "\n",
    "# Modifying an element\n",
    "numbers[1] = 25\n",
    "\n",
    "print(\"Modified list: \",numbers)\n"
   ]
  },
  {
   "cell_type": "markdown",
   "id": "6d76e463",
   "metadata": {},
   "source": [
    "5.2 Tuple\n",
    "\n",
    "Def and Characteristics\n",
    "\n",
    "    1.A tuple is created using parantheses () or the tuple constructor. What is tuple constructor?\n",
    "    2.It is ordered similar to a list.\n",
    "    3.It is immuntable: You cannot add,remove, or change the elements once defined. Creation & Basic Operations"
   ]
  },
  {
   "cell_type": "code",
   "execution_count": null,
   "id": "b88d199b",
   "metadata": {},
   "outputs": [
    {
     "name": "stdout",
     "output_type": "stream",
     "text": [
      "Empty Tuple:  ()\n",
      "Single Element Value:  (24,)\n",
      "Tuple having numbers:  (10, 20, 30, 40)\n",
      "Mixed Tuple:  ('Hammad', 24, True)\n",
      "The first element of numbers_tuple is:  10\n",
      "Sub Tuple is:  (20, 30, 40)\n"
     ]
    }
   ],
   "source": [
    "#Creating Tuples\n",
    "empty_tuple = ()\n",
    "print(\"Empty Tuple: \",empty_tuple)\n",
    "\n",
    "single_element_tuple = (24,)  #24, means that it is not just simple integer value but inside tuple it's a single value\n",
    "print(\"Single Element Value: \",single_element_tuple)\n",
    "\n",
    "numbers_tuple = (10,20,30,40)\n",
    "print(\"Tuple having numbers: \",numbers_tuple)\n",
    "\n",
    "mixed_tuple = (\"Hammad\", 24, True)\n",
    "print(\"Mixed Tuple: \", mixed_tuple)\n",
    "\n",
    "#Accessing elements by index in tuple\n",
    "first_element = numbers_tuple[0]   #equals to #first_element = numbers_tuple[-4]\n",
    "print(\"The first element of numbers_tuple is: \",first_element)\n",
    "\n",
    "#Slicing works similarly to list\n",
    "sub_tuple = numbers_tuple[1:]   #(20, 30, 40) #including index 1 element\n",
    "print(\"Slicied Sub Tuple is: \",sub_tuple)"
   ]
  },
  {
   "cell_type": "code",
   "execution_count": null,
   "id": "155dee89",
   "metadata": {},
   "outputs": [
    {
     "name": "stdout",
     "output_type": "stream",
     "text": [
      "Error:  'tuple' object does not support item assignment\n"
     ]
    }
   ],
   "source": [
    "#This code is trying to change a value inside a tuple, which is not allowed.\n",
    "#It uses a try-except block to catch the error gracefully and print an error message instead of crashing the program.\n",
    "\n",
    "#Try to modify a tuple will raise an error\n",
    "try:                        #This begins a try block, which is used to write code that might raise an exception (error).\n",
    "    numbers_tuple[1] = 99  #If an exception occurs inside the try block, Python will jump to the except block to handle the error instead of crashing the program.\n",
    "except TypeError as e:      #This catches a TypeError that may have occurred in the try block.\n",
    "    print(\"Error: \", e)     #The error object is stored in variable e, so it can be printed or used."
   ]
  },
  {
   "cell_type": "code",
   "execution_count": 12,
   "id": "2ab2febb",
   "metadata": {},
   "outputs": [
    {
     "name": "stdout",
     "output_type": "stream",
     "text": [
      "Name:  Bob\n",
      "Age:  30\n",
      "Job:  Engineer\n"
     ]
    }
   ],
   "source": [
    "#Unpacking a tuple\n",
    "person_tuple = (\"Bob\", 30, \"Engineer\")\n",
    "name, age, Job = person_tuple  #Unpacking tuple in order\n",
    "\n",
    "print(\"Name: \", name)\n",
    "print(\"Age: \", age)\n",
    "print(\"Job: \",Job)"
   ]
  },
  {
   "cell_type": "markdown",
   "id": "e84dd8a8",
   "metadata": {},
   "source": [
    "Best Practices for tuple\n",
    "\n",
    "    1.Use Tuples for fixed collections of items that do not change, like coordinates or constant data.\n",
    "    2.Leverage tuple unpacking to write cleaner code when returning multiple values of a function.Use tuple unpacking in a smart way to make your code cleaner, shorter, or more readable.\n",
    "    3.Do not modify:If you need t ofrequently alter the collection, consider a list.\n",
    "\n",
    "5.3 Dictionary:\n",
    "\n",
    "Def and characteristics\n",
    "\n",
    "    1.A dictionary is created using curly braces{} with key-value pairs, or using dict().\n",
    "    2.It is an unordered(though Python 3.7+ maintains an insertion order as an implementation detail).\n",
    "    3.Keys must be unique and immutable(e.g., strings, numbers,tuples). Values can be anything. 14. t is mutable: You can add, remove or change key-value pairs.\n",
    "\n",
    "\n",
    "Creation and Basic Operations"
   ]
  },
  {
   "cell_type": "code",
   "execution_count": null,
   "id": "c4f757bb",
   "metadata": {},
   "outputs": [
    {
     "name": "stdout",
     "output_type": "stream",
     "text": [
      "Empty Dictionary:  {}\n",
      "Person Dictionary:  {'name': 'Alice', 'age': 21}\n",
      "another Distionary:  {'city': 'London', 'country': 'UK'}\n",
      "Name: Alice\n",
      "Age:  None\n"
     ]
    }
   ],
   "source": [
    "# Creating Dictionaries\n",
    "empty_dict = {}\n",
    "person_dict = {\"name\": \"Alice\", \"age\": 21}\n",
    "another_dict = dict(city=\"London\", country=\"UK\") #dict is a function used for creating dictionaries\n",
    "\n",
    "print(\"Empty Dictionary: \",empty_dict)\n",
    "print(\"Person Dictionary: \",person_dict)\n",
    "print(\"another Distionary: \",another_dict)\n",
    "\n",
    "#Accessing value by key\n",
    "print(\"Name:\", person_dict[\"name\"])\n",
    "print(\"Age: \", person_dict.get(\"age\"))  #.get returns None i key is not found"
   ]
  },
  {
   "cell_type": "markdown",
   "id": "ce163859",
   "metadata": {},
   "source": [
    "Adding, Updating and removing Keys"
   ]
  },
  {
   "cell_type": "code",
   "execution_count": 15,
   "id": "6aaad1e9",
   "metadata": {},
   "outputs": [
    {
     "name": "stdout",
     "output_type": "stream",
     "text": [
      "{'name': 'Alice', 'City': 'Karak', 'age': 22}\n",
      "{'name': 'Alice', 'City': 'Karak', 'age': 22}\n",
      "The remove value is:  22\n",
      "{'name': 'Alice', 'City': 'Karak'}\n",
      "Name key is present.\n",
      "Keys:  dict_keys(['name', 'City'])\n",
      "Values:  dict_values(['Alice', 'Karak'])\n",
      "Items:  dict_items([('name', 'Alice'), ('City', 'Karak')])\n"
     ]
    }
   ],
   "source": [
    "#Updating a key value pair\n",
    "person_dict[\"age\"] = 22  #Update\n",
    "print(person_dict)\n",
    "\n",
    "#Adding a key value pair\n",
    "person_dict[\"City\"] = \"Karak\"\n",
    "print(person_dict)  #If key is not present then adds as well automatically.\n",
    "\n",
    "#Removing a key value pair\n",
    "remove_value = person_dict.pop(\"age\")\n",
    "print(\"The remove value is: \",remove_value)\n",
    "print(person_dict)\n",
    "\n",
    "#Checking if a key is present\n",
    "if \"name\" in person_dict:\n",
    "    print(\"Name key is present.\")\n",
    "else:\n",
    "    print(\"None\")\n",
    "\n",
    "\n",
    "print(\"Keys: \", person_dict.keys())\n",
    "print(\"Values: \", person_dict.values())\n",
    "print(\"Items: \", person_dict.items())\n"
   ]
  },
  {
   "cell_type": "markdown",
   "id": "e3a40d9f",
   "metadata": {},
   "source": [
    "Best Practices for Dictionaries\n",
    "\n",
    "    1.Use Dictionaries when you need fast lookups by keys.\n",
    "    2.Keys should be immutable and descriptive(e.g., strings that convey meaning).\n",
    "    3.Use .get(key, default) to avoid key error whe na key might not exist.\n",
    "    4.Keys are great for configuration data, or bundling related data attributes without creating a custom class.\n",
    "\n",
    "5.4 Sets\n",
    "\n",
    "Definition & Characteristics\n",
    "\n",
    "    1.A set is created using {} or the set constructor.\n",
    "    2.It is an unordered and does not allow duplicate elements.\n",
    "    3.It is mutable: You can add or remove elements.\n",
    "\n",
    "Creation and Basic Operations"
   ]
  },
  {
   "cell_type": "code",
   "execution_count": 25,
   "id": "92a7a626",
   "metadata": {},
   "outputs": [
    {
     "name": "stdout",
     "output_type": "stream",
     "text": [
      "Empty Set:  set()\n",
      "Number Set:  {1, 2, 3}\n",
      "Mixed Set {42, (1, 2), 'apple'}\n",
      "{1, 2, 3, 4}\n",
      "{1, 2, 4}\n"
     ]
    }
   ],
   "source": [
    "empty_set = set()\n",
    "numbers_set = {1,2,3,2} #Duplicate elements are removed automatically.\n",
    "mixed_set = {\"apple\", 42, (1, 2)} #We can store immutable types like tuples\n",
    "\n",
    "print(\"Empty Set: \",empty_set)\n",
    "print(\"Number Set: \",numbers_set)\n",
    "print(\"Mixed Set\",mixed_set)\n",
    "\n",
    "#Adding and Removing Elements\n",
    "numbers_set.add(4)\n",
    "print(numbers_set)\n",
    "\n",
    "#Removing elements\n",
    "numbers_set.discard(3)  #Removes 2 if exists, no error if does not exists\n",
    "print(numbers_set)\n",
    "\n",
    "# numbers_set.remove(0)   #Removes 2 if exists,  error if does not exists\n",
    "# print(numbers_set)"
   ]
  },
  {
   "cell_type": "markdown",
   "id": "8d730426",
   "metadata": {},
   "source": [
    "Set Operations\n",
    "\n",
    "Sets support mathematical operations like union, intersection, difference etc"
   ]
  },
  {
   "cell_type": "code",
   "execution_count": null,
   "id": "d31590b3",
   "metadata": {},
   "outputs": [
    {
     "name": "stdout",
     "output_type": "stream",
     "text": [
      "Union:  {1, 2, 3, 4, 5}\n",
      "Intersection:  {3}\n",
      "Difference:  {1, 2}\n",
      "Difference:  {4, 5}\n",
      "Symmetric:  {1, 2, 4, 5}\n"
     ]
    }
   ],
   "source": [
    "set_a = {1, 2, 3}\n",
    "set_b = {3, 4, 5}\n",
    "\n",
    "#Union\n",
    "print(\"Union: \", set_a.union(set_b))\n",
    "\n",
    "#Intersection\n",
    "print(\"Intersection: \", set_a.intersection(set_b))\n",
    "\n",
    "#Difference: \n",
    "print(\"Difference: \", set_a.difference(set_b))  #set_a - set_b\n",
    "print(\"Difference: \",set_b.difference(set_a)) #set_b - set_a\n",
    "\n",
    "#Symmetric difference: elements in either set a or set b but not in both\n",
    "print(\"Symmetric: \", set_a.symmetric_difference(set_b))"
   ]
  },
  {
   "cell_type": "markdown",
   "id": "2cc2852e",
   "metadata": {},
   "source": [
    "Best Practices for sets\n",
    "\n",
    "    1.Use sets when you need to efficiently test for membership(in check) and remove duplicates.\n",
    "    2.Avoid storing mutable items in sets- items must be hashable(immutable).\n",
    "    3.Use set operations for cleaner and more efficient code when dealing with membership and overlaps."
   ]
  }
 ],
 "metadata": {
  "kernelspec": {
   "display_name": "awfera",
   "language": "python",
   "name": "python3"
  },
  "language_info": {
   "codemirror_mode": {
    "name": "ipython",
    "version": 3
   },
   "file_extension": ".py",
   "mimetype": "text/x-python",
   "name": "python",
   "nbconvert_exporter": "python",
   "pygments_lexer": "ipython3",
   "version": "3.10.17"
  }
 },
 "nbformat": 4,
 "nbformat_minor": 5
}
